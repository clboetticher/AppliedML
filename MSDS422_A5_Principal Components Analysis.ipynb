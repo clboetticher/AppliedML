{
 "cells": [
  {
   "cell_type": "markdown",
   "metadata": {},
   "source": [
    "Objective: Develop a multiclass classifier using the entire MNIST data set for input data. The classifier will be used to predict which of 10 digits is being written."
   ]
  },
  {
   "cell_type": "code",
   "execution_count": null,
   "metadata": {},
   "outputs": [],
   "source": [
    "# https://www.kaggle.com/c/digit-recognizer/data"
   ]
  },
  {
   "cell_type": "markdown",
   "metadata": {},
   "source": [
    "The data files train.csv and test.csv contain gray-scale images of hand-drawn digits, from zero through nine.\n",
    "\n",
    "Each image is 28 pixels in height and 28 pixels in width, for a total of 784 pixels in total. Each pixel has a single pixel-value associated with it, indicating the lightness or darkness of that pixel, with higher numbers meaning darker. This pixel-value is an integer between 0 and 255, inclusive.\n",
    "\n",
    "The training data set, (train.csv), has 785 columns. The first column, called \"label\", is the digit that was drawn by the user. The rest of the columns contain the pixel-values of the associated image.\n",
    "\n",
    "Each pixel column in the training set has a name like pixelx, where x is an integer between 0 and 783, inclusive. To locate this pixel on the image, suppose that we have decomposed x as x = i * 28 + j, where i and j are integers between 0 and 27, inclusive. Then pixelx is located on row i and column j of a 28 x 28 matrix, (indexing by zero).\n",
    "\n",
    "For example, pixel31 indicates the pixel that is in the fourth column from the left, and the second row from the top, as in the ascii-diagram below."
   ]
  },
  {
   "cell_type": "markdown",
   "metadata": {},
   "source": [
    "The test data set, (test.csv), is the same as the training set, except that it does not contain the \"label\" column.\n",
    "\n",
    "Your submission file should be in the following format: For each of the 28000 images in the test set, output a single line containing the ImageId and the digit you predict. \n",
    "\n",
    "The evaluation metric for this contest is the categorization accuracy, or the proportion of test images that are correctly classified. For example, a categorization accuracy of 0.97 indicates that you have correctly classified all but 3% of the images."
   ]
  },
  {
   "cell_type": "markdown",
   "metadata": {},
   "source": [
    "Assignment steps:\n",
    "\n",
    "(1) Begin by fitting a random forest classifier using the full set of 784 explanatory variables and the model training set (train.csv). Record the time it takes to fit the model and then evaluate the model on the test.csv data by submitting to Kaggle.com. Provide your Kaggle.com score and user ID.\n",
    "\n",
    "(2) Execute principal components analysis (PCA) on the combined training and test set data together, generating principal components that represent 95 percent of the variability in the explanatory variables. The number of principal components in the solution should be substantially fewer than the 784 explanatory variables. Record the time it takes to identify the principal components.\n",
    "\n",
    "(3) Using the identified principal components from step (2), use the train.csv to build another random forest classifier. Record the time it takes to fit the model and to evaluate the model on the test.csv data by submitting to Kaggle.com. Provide your Kaggle.com score and user ID.\n",
    "\n",
    "(4) Submit both the RF Classifier and the PCA RF Classifier to Kaggle.com, and report both scores along with your user name.  I MUST have your user name to verify submission status.\n",
    "\n",
    "Report total elapsed time measures for the training set analysis.  It is sufficient to run a single time-elapsed test for this assignment."
   ]
  },
  {
   "cell_type": "code",
   "execution_count": 1,
   "metadata": {},
   "outputs": [],
   "source": [
    "# Import dependencies\n",
    "import numpy as np\n",
    "import pandas as pd\n",
    "import os\n",
    "import random\n",
    "import time\n",
    "\n",
    "# ML imports\n",
    "from sklearn.preprocessing import StandardScaler\n",
    "from sklearn.model_selection import KFold, train_test_split, cross_val_score, cross_val_predict, GridSearchCV \n",
    "from sklearn.metrics import confusion_matrix, precision_score, recall_score, f1_score, classification_report\n",
    "from sklearn.ensemble import RandomForestClassifier\n",
    "from sklearn.decomposition import PCA, IncrementalPCA\n",
    "# from sklearn.discriminant_analysis import LinearDiscriminantAnalysis as LDA\n",
    "\n",
    "# Visualizations\n",
    "import matplotlib.pyplot as plt  # static plotting\n",
    "import seaborn as sns  # pretty plotting, including heat map\n",
    "%matplotlib inline"
   ]
  },
  {
   "cell_type": "code",
   "execution_count": 2,
   "metadata": {},
   "outputs": [],
   "source": [
    "# Initialize process time list for code timing across entire program\n",
    "process_time = []"
   ]
  },
  {
   "cell_type": "markdown",
   "metadata": {},
   "source": [
    "# Import and inspect training data"
   ]
  },
  {
   "cell_type": "code",
   "execution_count": 3,
   "metadata": {},
   "outputs": [],
   "source": [
    "# Import train and test datasets\n",
    "\n",
    "# The training data set, (train.csv), has 785 columns. The first column, called \"label\", is the \n",
    "# digit that was drawn by the user. The rest of the columns contain the pixel-values of the associated image.\n",
    "train = pd.read_csv('train.csv')\n",
    "test = pd.read_csv('test.csv')"
   ]
  },
  {
   "cell_type": "code",
   "execution_count": 4,
   "metadata": {},
   "outputs": [
    {
     "data": {
      "text/plain": [
       "(42000, 785)"
      ]
     },
     "execution_count": 4,
     "metadata": {},
     "output_type": "execute_result"
    }
   ],
   "source": [
    "# 42,000 images\n",
    "# Each image has 784 features (each image is 28 x 28 pixels) and 1 label feature (785 total)\n",
    "# Each feature represents one pixel's intensity from 0 (white) to 255 (black)\n",
    "train.shape"
   ]
  },
  {
   "cell_type": "code",
   "execution_count": 5,
   "metadata": {},
   "outputs": [
    {
     "data": {
      "text/plain": [
       "(28000, 784)"
      ]
     },
     "execution_count": 5,
     "metadata": {},
     "output_type": "execute_result"
    }
   ],
   "source": [
    "# 28,000 images, contains 784 features and no label\n",
    "test.shape"
   ]
  },
  {
   "cell_type": "code",
   "execution_count": 6,
   "metadata": {},
   "outputs": [
    {
     "name": "stdout",
     "output_type": "stream",
     "text": [
      "1    4684\n",
      "7    4401\n",
      "3    4351\n",
      "9    4188\n",
      "2    4177\n",
      "6    4137\n",
      "0    4132\n",
      "4    4072\n",
      "8    4063\n",
      "5    3795\n",
      "Name: label, dtype: int64\n",
      "--------------------\n",
      "1    0.111524\n",
      "7    0.104786\n",
      "3    0.103595\n",
      "9    0.099714\n",
      "2    0.099452\n",
      "6    0.098500\n",
      "0    0.098381\n",
      "4    0.096952\n",
      "8    0.096738\n",
      "5    0.090357\n",
      "Name: label, dtype: float64\n"
     ]
    }
   ],
   "source": [
    "# Inspect class balances for train set, seems relatively balanced\n",
    "print(train['label'].value_counts(ascending=False))\n",
    "print('--------------------')\n",
    "print(train['label'].value_counts(normalize=True))"
   ]
  },
  {
   "cell_type": "markdown",
   "metadata": {},
   "source": [
    "**Figure 1: Label Distribution in Train Set**"
   ]
  },
  {
   "cell_type": "code",
   "execution_count": 51,
   "metadata": {},
   "outputs": [
    {
     "data": {
      "image/png": "[encoded data removed]",
      "text/plain": [
       "<Figure size 432x288 with 1 Axes>"
      ]
     },
     "metadata": {
      "needs_background": "light"
     },
     "output_type": "display_data"
    }
   ],
   "source": [
    "# Plot label distribution from Kaggle train set\n",
    "mn_plot_total = sns.countplot(train['label'], palette=\"muted\").set_title('Total Digit Distribution')"
   ]
  },
  {
   "cell_type": "code",
   "execution_count": 7,
   "metadata": {},
   "outputs": [],
   "source": [
    "# Save the labels to a Pandas series target\n",
    "y = train['label']\n",
    "\n",
    "# Drop the label feature\n",
    "X = train.drop(\"label\",axis=1)"
   ]
  },
  {
   "cell_type": "code",
   "execution_count": 8,
   "metadata": {},
   "outputs": [
    {
     "data": {
      "text/plain": [
       "256"
      ]
     },
     "execution_count": 8,
     "metadata": {},
     "output_type": "execute_result"
    }
   ],
   "source": [
    "# Confirm that all 256 values between the min-max of 0-255 exist in the train set\n",
    "len(np.unique(X))"
   ]
  },
  {
   "cell_type": "code",
   "execution_count": 13,
   "metadata": {},
   "outputs": [],
   "source": [
    "# View images\n",
    "images_to_plot = 9\n",
    "random_indices = random.sample(range(42000), images_to_plot)\n",
    "\n",
    "sample_images = X.loc[random_indices, :]\n",
    "sample_labels = y.loc[random_indices]"
   ]
  },
  {
   "cell_type": "code",
   "execution_count": 14,
   "metadata": {},
   "outputs": [
    {
     "data": {
      "text/plain": [
       "<Figure size 432x288 with 0 Axes>"
      ]
     },
     "metadata": {},
     "output_type": "display_data"
    },
    {
     "data": {
      "image/png": "[encoded data removed]",
      "text/plain": [
       "<Figure size 360x360 with 9 Axes>"
      ]
     },
     "metadata": {
      "needs_background": "light"
     },
     "output_type": "display_data"
    }
   ],
   "source": [
    "# Plot examples\n",
    "plt.clf()\n",
    "plt.style.use('seaborn-muted')\n",
    "\n",
    "fig, axes = plt.subplots(3,3, \n",
    "                         figsize=(5,5),\n",
    "                         sharex=True, sharey=True,\n",
    "                         subplot_kw=dict(adjustable='box', aspect='equal')) #https://stackoverflow.com/q/44703433/1870832\n",
    "\n",
    "for i in range(images_to_plot):\n",
    "    \n",
    "    # axes (subplot) objects are stored in 2d array, accessed with axes[row,col]\n",
    "    subplot_row = i//3 \n",
    "    subplot_col = i%3  \n",
    "    ax = axes[subplot_row, subplot_col]\n",
    "\n",
    "    # plot image on subplot\n",
    "    plottable_image = np.reshape(sample_images.iloc[i,:].values, (28,28))\n",
    "    ax.imshow(plottable_image, cmap='gray_r')\n",
    "    \n",
    "    ax.set_title('Digit Label: {}'.format(sample_labels.iloc[i]))\n",
    "    ax.set_xbound([0,28])\n",
    "\n",
    "plt.tight_layout()\n",
    "plt.show()"
   ]
  },
  {
   "cell_type": "markdown",
   "metadata": {},
   "source": [
    "# Step 1: Fit a Random Forest classifier and evaluate on test set\n",
    "- OOB model\n",
    "- Train and evaluate\n",
    "- Grid search\n",
    "- Train and evaluate\n",
    "- Predict\n",
    "- Confusion matrix"
   ]
  },
  {
   "cell_type": "markdown",
   "metadata": {},
   "source": [
    "### 1. Train test split and distribution of labels"
   ]
  },
  {
   "cell_type": "code",
   "execution_count": 9,
   "metadata": {},
   "outputs": [],
   "source": [
    "# Assign classifier\n",
    "# Use default criterion (gini)\n",
    "cls_rf = RandomForestClassifier(random_state=1, n_jobs=-1, n_estimators=90)"
   ]
  },
  {
   "cell_type": "code",
   "execution_count": 10,
   "metadata": {},
   "outputs": [],
   "source": [
    "# Split train and test set 90/10\n",
    "X_train, X_test, y_train, y_test = train_test_split(X, y, test_size=.20, random_state=1)"
   ]
  },
  {
   "cell_type": "code",
   "execution_count": 11,
   "metadata": {},
   "outputs": [
    {
     "name": "stdout",
     "output_type": "stream",
     "text": [
      "(33600, 784)\n",
      "(33600,)\n",
      "(8400, 784)\n",
      "(8400,)\n"
     ]
    }
   ],
   "source": [
    "# Check split\n",
    "print(X_train.shape)\n",
    "print(y_train.shape)\n",
    "print(X_test.shape)\n",
    "print(y_test.shape)"
   ]
  },
  {
   "cell_type": "markdown",
   "metadata": {},
   "source": [
    "**Figure 2: Label Distribution in Training Set**"
   ]
  },
  {
   "cell_type": "code",
   "execution_count": 32,
   "metadata": {},
   "outputs": [
    {
     "data": {
      "image/png": "[encoded data removed]",
      "text/plain": [
       "<Figure size 432x288 with 1 Axes>"
      ]
     },
     "metadata": {
      "needs_background": "light"
     },
     "output_type": "display_data"
    }
   ],
   "source": [
    "# Evaluate distribution of labels across train set\n",
    "mn_plt_trn = sns.countplot(y_train, palette=\"muted\").set_title('Train Digit')"
   ]
  },
  {
   "cell_type": "markdown",
   "metadata": {},
   "source": [
    "**Figure 3: Label Distribution in Test Set**"
   ]
  },
  {
   "cell_type": "code",
   "execution_count": 33,
   "metadata": {},
   "outputs": [
    {
     "data": {
      "image/png": "[encoded data removed]",
      "text/plain": [
       "<Figure size 432x288 with 1 Axes>"
      ]
     },
     "metadata": {
      "needs_background": "light"
     },
     "output_type": "display_data"
    }
   ],
   "source": [
    "# Evaluate distribution of labels across test set\n",
    "mn_plt_tst = sns.countplot(y_test, palette=\"muted\").set_title('Test Digit')"
   ]
  },
  {
   "cell_type": "markdown",
   "metadata": {},
   "source": [
    "### 2. Initial classification with Random Forest"
   ]
  },
  {
   "cell_type": "code",
   "execution_count": 12,
   "metadata": {},
   "outputs": [
    {
     "name": "stdout",
     "output_type": "stream",
     "text": [
      "Accuracy:  0.9655952380952381\n",
      "Formatted time:  00:00:07\n",
      "Time in seconds:  7.7275731563568115\n"
     ]
    }
   ],
   "source": [
    "# Fit model and run on test set with timing\n",
    "start_time = time.time()\n",
    "cls_rf.fit(X_train, y_train)\n",
    "print('Accuracy: ', cls_rf.score(X_test, y_test))\n",
    "\n",
    "# Timing\n",
    "elapsed_time = time.time() - start_time\n",
    "print('Formatted time: ', time.strftime(\"%H:%M:%S\", time.gmtime(elapsed_time)))\n",
    "print('Time in seconds: ', elapsed_time)\n",
    "process_time.append(elapsed_time)"
   ]
  },
  {
   "cell_type": "markdown",
   "metadata": {},
   "source": [
    "### 3. Grid search for fine-tuning\n",
    "Try n_estimator hyperparameter"
   ]
  },
  {
   "cell_type": "code",
   "execution_count": 36,
   "metadata": {},
   "outputs": [
    {
     "name": "stdout",
     "output_type": "stream",
     "text": [
      "Fitting 3 folds for each of 40 candidates, totalling 120 fits\n"
     ]
    },
    {
     "name": "stderr",
     "output_type": "stream",
     "text": [
      "[Parallel(n_jobs=-1)]: Using backend LokyBackend with 4 concurrent workers.\n",
      "[Parallel(n_jobs=-1)]: Done  33 tasks      | elapsed:  1.1min\n",
      "[Parallel(n_jobs=-1)]: Done 120 out of 120 | elapsed:  7.7min finished\n"
     ]
    },
    {
     "data": {
      "text/plain": [
       "GridSearchCV(cv=3, error_score=nan,\n",
       "             estimator=RandomForestClassifier(bootstrap=True, ccp_alpha=0.0,\n",
       "                                              class_weight=None,\n",
       "                                              criterion='gini', max_depth=None,\n",
       "                                              max_features='auto',\n",
       "                                              max_leaf_nodes=None,\n",
       "                                              max_samples=None,\n",
       "                                              min_impurity_decrease=0.0,\n",
       "                                              min_impurity_split=None,\n",
       "                                              min_samples_leaf=1,\n",
       "                                              min_samples_split=2,\n",
       "                                              min_weight_fraction_leaf=0.0,\n",
       "                                              n_estimators=90, n_jobs=-1,\n",
       "                                              oob_score=False, random_state=42,\n",
       "                                              verbose=0, warm_start=False),\n",
       "             iid='deprecated', n_jobs=-1,\n",
       "             param_grid={'bootstrap': [True], 'max_depth': range(2, 10),\n",
       "                         'n_estimators': [100, 150, 200, 250, 300]},\n",
       "             pre_dispatch='2*n_jobs', refit=True, return_train_score=True,\n",
       "             scoring=None, verbose=2)"
      ]
     },
     "execution_count": 36,
     "metadata": {},
     "output_type": "execute_result"
    }
   ],
   "source": [
    "# cls_rf = RandomForestClassifier()\n",
    "\n",
    "param_grid = {\n",
    "    'bootstrap': [True],\n",
    "    'max_depth': range(2,10),\n",
    "    'n_estimators': [100,150,200,250,300,400,500]\n",
    "}\n",
    "\n",
    "grid_search_rf = GridSearchCV(estimator=cls_rf, param_grid=param_grid, cv=3, \n",
    "                              return_train_score=True, n_jobs=-1, verbose=2)\n",
    "\n",
    "grid_search_rf.fit(X_train, y_train)"
   ]
  },
  {
   "cell_type": "code",
   "execution_count": 37,
   "metadata": {},
   "outputs": [
    {
     "name": "stdout",
     "output_type": "stream",
     "text": [
      "Test set score:  0.9342857142857143\n",
      "Best parameters:  {'bootstrap': True, 'max_depth': 9, 'n_estimators': 300}\n",
      "Best cross-validation score:  0.9366666666666666\n"
     ]
    }
   ],
   "source": [
    "# Display parameter recommendations\n",
    "print('Test set score: ', grid_search_rf.score(X_test, y_test))\n",
    "print('Best parameters: ', grid_search_rf.best_params_)\n",
    "print('Best cross-validation score: ', grid_search_rf.best_score_)"
   ]
  },
  {
   "cell_type": "code",
   "execution_count": 13,
   "metadata": {},
   "outputs": [],
   "source": [
    "# Adjust model parameters, not using max depth\n",
    "cls_rf = RandomForestClassifier(random_state=1, n_jobs=-1, n_estimators=300)\n",
    "\n",
    "# Original\n",
    "# cls_rf = RandomForestClassifier(random_state=1, n_jobs=-1, n_estimators=90)"
   ]
  },
  {
   "cell_type": "code",
   "execution_count": 14,
   "metadata": {},
   "outputs": [
    {
     "name": "stdout",
     "output_type": "stream",
     "text": [
      "Accuracy:  0.9667857142857142\n",
      "Formatted time:  00:00:23\n",
      "Time in seconds:  23.325534105300903\n"
     ]
    }
   ],
   "source": [
    "# Fit the tuned parameters with timing\n",
    "start_time = time.time()\n",
    "cls_rf.fit(X_train, y_train)\n",
    "elapsed_time = time.time() - start_time\n",
    "\n",
    "# Results with tuning\n",
    "print('Accuracy: ', cls_rf.score(X_test, y_test))\n",
    "\n",
    "# Timing\n",
    "print('Formatted time: ', time.strftime(\"%H:%M:%S\", time.gmtime(elapsed_time)))\n",
    "print('Time in seconds: ', elapsed_time)\n",
    "process_time.append(elapsed_time)"
   ]
  },
  {
   "cell_type": "code",
   "execution_count": 15,
   "metadata": {},
   "outputs": [
    {
     "name": "stdout",
     "output_type": "stream",
     "text": [
      "F1 accuracy:  0.9665596424569133\n"
     ]
    }
   ],
   "source": [
    "# F1 score\n",
    "pred = cls_rf.predict(X_test)\n",
    "print('F1 accuracy: ', f1_score(pred, y_test, average='macro'))"
   ]
  },
  {
   "cell_type": "code",
   "execution_count": 16,
   "metadata": {},
   "outputs": [
    {
     "name": "stdout",
     "output_type": "stream",
     "text": [
      "              precision    recall  f1-score   support\n",
      "\n",
      "     class 0       0.98      0.99      0.99       853\n",
      "     class 1       0.99      0.98      0.98       940\n",
      "     class 2       0.96      0.97      0.97       835\n",
      "     class 3       0.97      0.94      0.95       873\n",
      "     class 4       0.96      0.97      0.96       829\n",
      "     class 5       0.96      0.96      0.96       731\n",
      "     class 6       0.98      0.98      0.98       800\n",
      "     class 7       0.97      0.96      0.97       850\n",
      "     class 8       0.96      0.96      0.96       846\n",
      "     class 9       0.95      0.94      0.94       843\n",
      "\n",
      "    accuracy                           0.97      8400\n",
      "   macro avg       0.97      0.97      0.97      8400\n",
      "weighted avg       0.97      0.97      0.97      8400\n",
      "\n"
     ]
    }
   ],
   "source": [
    "# Print classification report\n",
    "target_names = ['class 0', 'class 1', 'class 2', 'class 3', 'class 4', 'class 5', 'class 6', 'class 7',\n",
    "                   'class 8', 'class 9']\n",
    "print(classification_report(y_test, pred, target_names=target_names))"
   ]
  },
  {
   "cell_type": "markdown",
   "metadata": {},
   "source": [
    "### 3. Confusion matrix"
   ]
  },
  {
   "cell_type": "code",
   "execution_count": 49,
   "metadata": {},
   "outputs": [
    {
     "data": {
      "image/png": "[encoded data removed]",
      "text/plain": [
       "<Figure size 432x288 with 1 Axes>"
      ]
     },
     "metadata": {
      "needs_background": "light"
     },
     "output_type": "display_data"
    }
   ],
   "source": [
    "# Plot confusion matrix of actual versus predicted labels\n",
    "rf_cm = confusion_matrix(y_test, pred)\n",
    "rf_cm_plt=sns.heatmap(rf_cm.T, square=True, annot=True, fmt='d', cbar=False, cmap=\"Blues\")\n",
    "plt.xlabel('Actual label')\n",
    "plt.ylabel('Predicted label')\n",
    "plt.title(\"Valid\");"
   ]
  },
  {
   "cell_type": "markdown",
   "metadata": {},
   "source": [
    "### 4. Evaluate model on test set for Kaggle"
   ]
  },
  {
   "cell_type": "code",
   "execution_count": 17,
   "metadata": {},
   "outputs": [
    {
     "name": "stdout",
     "output_type": "stream",
     "text": [
      "Formatted time:  00:00:01\n",
      "Time in seconds:  1.1097159385681152\n"
     ]
    }
   ],
   "source": [
    "# Submission code\n",
    "testData = pd.read_csv(\"test.csv\")\n",
    "start_time = time.time()\n",
    "pred = cls_rf.predict(testData)\n",
    "elapsed_time = time.time() - start_time\n",
    "print('Formatted time: ', time.strftime(\"%H:%M:%S\", time.gmtime(elapsed_time)))\n",
    "print('Time in seconds: ', elapsed_time)\n",
    "process_time.append(elapsed_time)\n",
    "\n",
    "# Create Dataframe\n",
    "data = pred\n",
    "df_1 = pd.DataFrame(pred)\n",
    "df_1['ImageID'] = df_1.index + 1\n",
    "df_1.columns = ['Label', 'ImageID']\n",
    "submission = df_1[['ImageID', 'Label']]\n",
    "\n",
    "# Output to csv\n",
    "submission.to_csv('Boetticher_RF_predictions_8020.csv',header=True, index=False)"
   ]
  },
  {
   "cell_type": "markdown",
   "metadata": {},
   "source": [
    "**Kaggle ID: Claire Boetticher**<br>\n",
    "**Kaggle username: clairence**\n",
    "\n",
    "<img src = \"RF8020.png\">"
   ]
  },
  {
   "cell_type": "markdown",
   "metadata": {},
   "source": [
    "# Step 2: Principal Components Analysis"
   ]
  },
  {
   "cell_type": "markdown",
   "metadata": {},
   "source": [
    "### 1. Data preparation and PC identification"
   ]
  },
  {
   "cell_type": "code",
   "execution_count": 18,
   "metadata": {},
   "outputs": [],
   "source": [
    "# Combine training and test set for PCA\n",
    "x = np.concatenate((X_train, X_test), axis=0)"
   ]
  },
  {
   "cell_type": "code",
   "execution_count": 19,
   "metadata": {},
   "outputs": [
    {
     "name": "stdout",
     "output_type": "stream",
     "text": [
      "Formatted time:  00:00:05\n",
      "Time in seconds:  5.606950998306274\n"
     ]
    }
   ],
   "source": [
    "# Fit model using PCA, generating principal components that represent 95 percent of the variability in \n",
    "# the explanatory features\n",
    "start_time = time.time()\n",
    "pca = PCA(.95)\n",
    "pca.fit(x)\n",
    "totimages = pca.transform(x)\n",
    "# pca.n_components_\n",
    "\n",
    "# Timing\n",
    "elapsed_time = time.time() - start_time\n",
    "print('Formatted time: ', time.strftime(\"%H:%M:%S\", time.gmtime(elapsed_time)))\n",
    "print('Time in seconds: ', elapsed_time)\n",
    "process_time.append(elapsed_time)"
   ]
  },
  {
   "cell_type": "code",
   "execution_count": 20,
   "metadata": {},
   "outputs": [
    {
     "name": "stdout",
     "output_type": "stream",
     "text": [
      "Principal components count:  154\n"
     ]
    }
   ],
   "source": [
    "# Output number of principal components explaining 95% of variability in the explanatory features: 154\n",
    "print('Principal components count: ', pca.n_components_)"
   ]
  },
  {
   "cell_type": "markdown",
   "metadata": {},
   "source": [
    "### 2. Explained variance ratio and visualization"
   ]
  },
  {
   "cell_type": "code",
   "execution_count": 21,
   "metadata": {},
   "outputs": [
    {
     "data": {
      "text/plain": [
       "array([0.09748938, 0.07160266, 0.06145903, 0.05379302, 0.04894262,\n",
       "       0.04303214, 0.03277051, 0.02892103, 0.02766902, 0.02348871,\n",
       "       0.02099325, 0.02059001, 0.01702553, 0.01692787, 0.01581126,\n",
       "       0.0148324 , 0.01319688, 0.01282727, 0.01187976, 0.01152755,\n",
       "       0.01072191, 0.01015199, 0.00964902, 0.00912846, 0.00887641,\n",
       "       0.00838766, 0.00811856, 0.00777406, 0.00740635, 0.00686661,\n",
       "       0.00657982, 0.00638799, 0.00599367, 0.00588913, 0.00564335,\n",
       "       0.00540967, 0.00509222, 0.00487505, 0.00475569, 0.00466545,\n",
       "       0.00452952, 0.00444989, 0.00418255, 0.00397506, 0.00384542,\n",
       "       0.00374919, 0.00361013, 0.00348522, 0.00336488, 0.00320738,\n",
       "       0.00315467, 0.00309146, 0.00293709, 0.00286541, 0.00280759,\n",
       "       0.00269618, 0.00265831, 0.00256299, 0.00253821, 0.00246178,\n",
       "       0.00239716, 0.0023874 , 0.00227591, 0.00221518, 0.00213934,\n",
       "       0.00206133, 0.00202851, 0.00195977, 0.00193639, 0.00188485,\n",
       "       0.00186751, 0.0018167 , 0.00176891, 0.00172592, 0.00166121,\n",
       "       0.0016331 , 0.00160601, 0.00154472, 0.0014685 , 0.00142376,\n",
       "       0.00141098, 0.00140228, 0.00138835, 0.00135417, 0.00132307,\n",
       "       0.0013078 , 0.00129674, 0.0012424 , 0.00122249, 0.00119624,\n",
       "       0.0011584 , 0.00113859, 0.00112263, 0.00110475, 0.00108133,\n",
       "       0.00107413, 0.00103866, 0.00103322, 0.00101495, 0.00099997,\n",
       "       0.00097482, 0.00094506, 0.00093864, 0.00091222, 0.00090731,\n",
       "       0.00088887, 0.0008637 , 0.00084423, 0.00083554, 0.00081665,\n",
       "       0.00078768, 0.00078156, 0.00077746, 0.00077193, 0.00075784,\n",
       "       0.00075022, 0.00073448, 0.00072577, 0.00071532, 0.00070032,\n",
       "       0.00069305, 0.00068574, 0.00067993, 0.00066572, 0.00065614,\n",
       "       0.0006448 , 0.00063539, 0.00062612, 0.00061851, 0.00060574,\n",
       "       0.00060385, 0.00059145, 0.0005859 , 0.00058463, 0.00057548,\n",
       "       0.00056972, 0.0005645 , 0.00055317, 0.00053434, 0.00052578,\n",
       "       0.00052197, 0.00051119, 0.00050514, 0.00049992, 0.00049532,\n",
       "       0.00049235, 0.0004844 , 0.00047669, 0.00047467, 0.00046789,\n",
       "       0.0004653 , 0.00046136, 0.00045634, 0.00045176])"
      ]
     },
     "execution_count": 21,
     "metadata": {},
     "output_type": "execute_result"
    }
   ],
   "source": [
    "# Explained variance ratio for 154 PCs\n",
    "# 10% of the train dataset's variance lies along the first PC\n",
    "# 7% along the second\n",
    "# 6% along the third, etc.\n",
    "pca.explained_variance_ratio_"
   ]
  },
  {
   "cell_type": "code",
   "execution_count": 22,
   "metadata": {},
   "outputs": [
    {
     "data": {
      "image/png": "[encoded data removed]",
      "text/plain": [
       "<Figure size 432x288 with 1 Axes>"
      ]
     },
     "metadata": {
      "needs_background": "light"
     },
     "output_type": "display_data"
    }
   ],
   "source": [
    "#Explained variance plot\n",
    "plt.plot(np.cumsum(pca.explained_variance_ratio_))\n",
    "plt.xlabel('number of components')\n",
    "plt.ylabel('cumulative explained variance')\n",
    "plt.show()"
   ]
  },
  {
   "cell_type": "code",
   "execution_count": 22,
   "metadata": {},
   "outputs": [],
   "source": [
    "# Reform the training and testing images\n",
    "# Training: up to 33,600\n",
    "# Testing: 33,600 to 42,000\n",
    "trainimages = totimages[0:33600, :]\n",
    "testimages = totimages[33600:42000, :]"
   ]
  },
  {
   "cell_type": "code",
   "execution_count": 23,
   "metadata": {},
   "outputs": [],
   "source": [
    "# Convert to integers\n",
    "trainimages = trainimages.astype(int)\n",
    "testimages = testimages.astype(int)"
   ]
  },
  {
   "cell_type": "markdown",
   "metadata": {},
   "source": [
    "### 3. Test Incremental PCA"
   ]
  },
  {
   "cell_type": "code",
   "execution_count": 24,
   "metadata": {},
   "outputs": [
    {
     "name": "stdout",
     "output_type": "stream",
     "text": [
      "Formatted time:  00:00:08\n",
      "Time in seconds:  8.207072019577026\n"
     ]
    }
   ],
   "source": [
    "# Time component identification\n",
    "start_time = time.time()\n",
    "\n",
    "n_batches = 100\n",
    "inc_pca = IncrementalPCA(n_components=154)\n",
    "for X_batch in np.array_split(X_train, n_batches):\n",
    "    inc_pca.partial_fit(X_batch)\n",
    "\n",
    "X_reduced = inc_pca.transform(X_train)\n",
    "\n",
    "# Timing\n",
    "elapsed_time = time.time() - start_time\n",
    "print('Formatted time: ', time.strftime(\"%H:%M:%S\", time.gmtime(elapsed_time)))\n",
    "print('Time in seconds: ', elapsed_time)\n",
    "process_time.append(elapsed_time)"
   ]
  },
  {
   "cell_type": "code",
   "execution_count": 32,
   "metadata": {},
   "outputs": [
    {
     "data": {
      "text/plain": [
       "array([0.0974987 , 0.07141142, 0.06151824, 0.05388163, 0.04890098,\n",
       "       0.04318881, 0.03282591, 0.02884297, 0.0276572 , 0.02350486,\n",
       "       0.02100847, 0.02057254, 0.0170844 , 0.01697231, 0.01571694,\n",
       "       0.01481204, 0.01322833, 0.01281248, 0.01185411, 0.0115275 ,\n",
       "       0.01073516, 0.01014294, 0.00964169, 0.00912906, 0.00885071,\n",
       "       0.00839414, 0.00812626, 0.00777431, 0.00738998, 0.00686648,\n",
       "       0.00657795, 0.00636188, 0.00599267, 0.00587324, 0.00562946,\n",
       "       0.00542793, 0.00508767, 0.00489156, 0.00474121, 0.00466481,\n",
       "       0.00454451, 0.00446174, 0.00417216, 0.00396312, 0.00385106,\n",
       "       0.00375317, 0.00362015, 0.00348357, 0.00336826, 0.00320721,\n",
       "       0.00315766, 0.00308749, 0.00292497, 0.00286046, 0.00281125,\n",
       "       0.00268951, 0.00265246, 0.00257036, 0.0025385 , 0.00244912,\n",
       "       0.00240386, 0.00238819, 0.00227269, 0.00220696, 0.00213842,\n",
       "       0.00207173, 0.00202547, 0.00195977, 0.00193556, 0.00188451,\n",
       "       0.00186966, 0.00181152, 0.00176677, 0.00172303, 0.0016659 ,\n",
       "       0.00163342, 0.00160367, 0.00154687, 0.00146551, 0.00142234,\n",
       "       0.00140977, 0.00140012, 0.0013862 , 0.00135238, 0.00132266,\n",
       "       0.00131378, 0.00129288, 0.00123952, 0.00122102, 0.0011996 ,\n",
       "       0.00115537, 0.00113975, 0.00111659, 0.00110452, 0.00107816,\n",
       "       0.00106763, 0.00103541, 0.00102944, 0.00101433, 0.00099765,\n",
       "       0.0009733 , 0.00094301, 0.00093513, 0.00091001, 0.00090182,\n",
       "       0.00088084, 0.00086275, 0.00084047, 0.00083399, 0.00081642,\n",
       "       0.00078296, 0.00077758, 0.00077628, 0.0007637 , 0.00075262,\n",
       "       0.00074332, 0.00072606, 0.0007161 , 0.00070858, 0.00069437,\n",
       "       0.00068603, 0.000678  , 0.00067524, 0.00066127, 0.00064644,\n",
       "       0.00063779, 0.00063105, 0.00062343, 0.00060675, 0.00059727,\n",
       "       0.00059467, 0.00058163, 0.00057402, 0.00056586, 0.00055703,\n",
       "       0.00055221, 0.00054657, 0.00054022, 0.0005191 , 0.00051785,\n",
       "       0.00050122, 0.00048903, 0.0004854 , 0.00047305, 0.00046864,\n",
       "       0.00046417, 0.00045361, 0.00044847, 0.00044269, 0.00043785,\n",
       "       0.00043312, 0.00042279, 0.00042026, 0.00040192])"
      ]
     },
     "execution_count": 32,
     "metadata": {},
     "output_type": "execute_result"
    }
   ],
   "source": [
    "# Explained variance ratio for 154 PCs with incremental PCA\n",
    "# 10% of the train dataset's variance lies along the first PC\n",
    "# 7% along the second\n",
    "# 6% along the third, etc.\n",
    "# Not drastically different than PCA and took longer\n",
    "inc_pca.explained_variance_ratio_"
   ]
  },
  {
   "cell_type": "markdown",
   "metadata": {},
   "source": [
    "# Step 3: Random Forest Classifier with Principal Components"
   ]
  },
  {
   "cell_type": "markdown",
   "metadata": {},
   "source": [
    "### 1. Fit model with principal components"
   ]
  },
  {
   "cell_type": "code",
   "execution_count": 30,
   "metadata": {},
   "outputs": [
    {
     "name": "stdout",
     "output_type": "stream",
     "text": [
      "Accuracy:  0.9448809523809524\n",
      "Formatted time:  00:00:32\n",
      "Time in seconds:  32.40455889701843\n"
     ]
    }
   ],
   "source": [
    "# Fit the model\n",
    "start_time = time.time()\n",
    "cls_rf2 = RandomForestClassifier(random_state=1, n_jobs=-1, n_estimators=300)\n",
    "cls_rf2.fit(trainimages, y_train)\n",
    "elapsed_time = time.time() - start_time\n",
    "print('Accuracy: ', cls_rf2.score(testimages, y_test))\n",
    "\n",
    "# Timing\n",
    "print('Formatted time: ', time.strftime(\"%H:%M:%S\", time.gmtime(elapsed_time)))\n",
    "print('Time in seconds: ', elapsed_time)\n",
    "process_time.append(elapsed_time)"
   ]
  },
  {
   "cell_type": "code",
   "execution_count": 31,
   "metadata": {},
   "outputs": [
    {
     "name": "stdout",
     "output_type": "stream",
     "text": [
      "F1 accuracy:  0.9444212610466947\n"
     ]
    }
   ],
   "source": [
    "# Predict a second time with principal components\n",
    "pred2 = cls_rf2.predict(testimages)\n",
    "print('F1 accuracy: ', f1_score(pred2, y_test, average='macro'))"
   ]
  },
  {
   "cell_type": "markdown",
   "metadata": {},
   "source": [
    "### 2. Confusion matrix"
   ]
  },
  {
   "cell_type": "code",
   "execution_count": 50,
   "metadata": {},
   "outputs": [
    {
     "data": {
      "image/png": "[encoded data removed]",
      "text/plain": [
       "<Figure size 432x288 with 1 Axes>"
      ]
     },
     "metadata": {
      "needs_background": "light"
     },
     "output_type": "display_data"
    }
   ],
   "source": [
    "# Plot confusion matrix of actual versus predicted labels\n",
    "rf_cm = confusion_matrix(y_test, pred2)\n",
    "rf_cm_plt=sns.heatmap(rf_cm.T, square=True, annot=True, fmt='d', cbar=False, cmap=\"Blues\")\n",
    "plt.xlabel('Actual label')\n",
    "plt.ylabel('Predicted label')\n",
    "plt.title(\"Valid\");"
   ]
  },
  {
   "cell_type": "markdown",
   "metadata": {},
   "source": [
    "### 3. Evaluate model on test set for Kaggle"
   ]
  },
  {
   "cell_type": "code",
   "execution_count": 27,
   "metadata": {},
   "outputs": [
    {
     "name": "stdout",
     "output_type": "stream",
     "text": [
      "Formatted time:  00:00:01\n",
      "Time in seconds:  1.0840649604797363\n"
     ]
    }
   ],
   "source": [
    "# Submission code with timing\n",
    "x_test = pd.read_csv(\"test.csv\")\n",
    "start_time = time.time()\n",
    "pred_PCA = cls_rf2.predict(pca.transform(x_test))\n",
    "elapsed_time = time.time() - start_time\n",
    "print('Formatted time: ', time.strftime(\"%H:%M:%S\", time.gmtime(elapsed_time)))\n",
    "print('Time in seconds: ', elapsed_time)\n",
    "process_time.append(elapsed_time)\n",
    "\n",
    "# Create Dataframe\n",
    "data = pred_PCA\n",
    "df_1 = pd.DataFrame(pred_PCA)\n",
    "df_1['ImageID'] = df_1.index + 1\n",
    "df_1.columns = ['Label', 'ImageID']\n",
    "submission = df_1[['ImageID', 'Label']]\n",
    "\n",
    "# Output to csv\n",
    "submission.to_csv('Boetticher_RF__PCA_predictions_2_8020.csv',header=True, index=False)"
   ]
  },
  {
   "cell_type": "markdown",
   "metadata": {},
   "source": [
    "**Kaggle ID: Claire Boetticher**<br>\n",
    "**Kaggle username: clairence**\n",
    "<img src=\"RFPCA2_8020.png\">"
   ]
  },
  {
   "cell_type": "markdown",
   "metadata": {},
   "source": [
    "# Processing time for entire study"
   ]
  },
  {
   "cell_type": "code",
   "execution_count": 28,
   "metadata": {},
   "outputs": [
    {
     "name": "stdout",
     "output_type": "stream",
     "text": [
      "Total time of model fitting and evalation for study (in seconds):  80.17386531829834\n",
      "Formatted time:  00:01:20\n"
     ]
    }
   ],
   "source": [
    "# Final process_time addition for entire program\n",
    "# Find sum of elements in process_time list \n",
    "total = 0\n",
    "\n",
    "# Iterate over each element in process_time list and add them in variable total \n",
    "for ele in range(0, len(process_time)): \n",
    "    total = total + process_time[ele] \n",
    "    \n",
    "# Conversion\n",
    "def convert(seconds): \n",
    "    min, sec = divmod(seconds, 60) \n",
    "    hour, min = divmod(min, 60) \n",
    "    return \"%d:%02d:%02d\" % (hour, min, sec) \n",
    "      \n",
    "# Time output\n",
    "n = total\n",
    "convert(n)\n",
    "\n",
    "# Results\n",
    "print(\"Total time of model fitting and evalation for study (in seconds): \", total) \n",
    "print('Formatted time: ', time.strftime(\"%H:%M:%S\", time.gmtime(total)))"
   ]
  },
  {
   "cell_type": "code",
   "execution_count": null,
   "metadata": {},
   "outputs": [],
   "source": []
  }
 ],
 "metadata": {
  "kernelspec": {
   "display_name": "Python 3",
   "language": "python",
   "name": "python3"
  },
  "language_info": {
   "codemirror_mode": {
    "name": "ipython",
    "version": 3
   },
   "file_extension": ".py",
   "mimetype": "text/x-python",
   "name": "python",
   "nbconvert_exporter": "python",
   "pygments_lexer": "ipython3",
   "version": "3.6.10"
  }
 },
 "nbformat": 4,
 "nbformat_minor": 2
}
