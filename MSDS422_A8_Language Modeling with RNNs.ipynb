{
 "cells": [
  {
   "cell_type": "markdown",
   "metadata": {
    "colab_type": "text",
    "id": "VqLvgAG1WYVT"
   },
   "source": [
    "# Import dependencies and mount Drive"
   ]
  },
  {
   "cell_type": "code",
   "execution_count": 0,
   "metadata": {
    "colab": {
     "base_uri": "https://localhost:8080/",
     "height": 408
    },
    "colab_type": "code",
    "id": "EwvT4JzgkiwW",
    "outputId": "94e4543f-9388-42e9-acd8-20575a83ffa5"
   },
   "outputs": [
    {
     "name": "stdout",
     "output_type": "stream",
     "text": [
      "Requirement already satisfied: tensorflow==1.15 in /usr/local/lib/python3.6/dist-packages (1.15.0)\n",
      "Requirement already satisfied: as in /usr/local/lib/python3.6/dist-packages (0.1)\n",
      "Requirement already satisfied: tf in /usr/local/lib/python3.6/dist-packages (1.0.0)\n",
      "Requirement already satisfied: google-pasta>=0.1.6 in /usr/local/lib/python3.6/dist-packages (from tensorflow==1.15) (0.1.8)\n",
      "Requirement already satisfied: opt-einsum>=2.3.2 in /usr/local/lib/python3.6/dist-packages (from tensorflow==1.15) (3.1.0)\n",
      "Requirement already satisfied: wheel>=0.26 in /usr/local/lib/python3.6/dist-packages (from tensorflow==1.15) (0.34.2)\n",
      "Requirement already satisfied: tensorflow-estimator==1.15.1 in /usr/local/lib/python3.6/dist-packages (from tensorflow==1.15) (1.15.1)\n",
      "Requirement already satisfied: astor>=0.6.0 in /usr/local/lib/python3.6/dist-packages (from tensorflow==1.15) (0.8.1)\n",
      "Requirement already satisfied: gast==0.2.2 in /usr/local/lib/python3.6/dist-packages (from tensorflow==1.15) (0.2.2)\n",
      "Requirement already satisfied: keras-preprocessing>=1.0.5 in /usr/local/lib/python3.6/dist-packages (from tensorflow==1.15) (1.1.0)\n",
      "Requirement already satisfied: numpy<2.0,>=1.16.0 in /usr/local/lib/python3.6/dist-packages (from tensorflow==1.15) (1.17.5)\n",
      "Requirement already satisfied: tensorboard<1.16.0,>=1.15.0 in /usr/local/lib/python3.6/dist-packages (from tensorflow==1.15) (1.15.0)\n",
      "Requirement already satisfied: wrapt>=1.11.1 in /usr/local/lib/python3.6/dist-packages (from tensorflow==1.15) (1.11.2)\n",
      "Requirement already satisfied: keras-applications>=1.0.8 in /usr/local/lib/python3.6/dist-packages (from tensorflow==1.15) (1.0.8)\n",
      "Requirement already satisfied: six>=1.10.0 in /usr/local/lib/python3.6/dist-packages (from tensorflow==1.15) (1.12.0)\n",
      "Requirement already satisfied: protobuf>=3.6.1 in /usr/local/lib/python3.6/dist-packages (from tensorflow==1.15) (3.10.0)\n",
      "Requirement already satisfied: absl-py>=0.7.0 in /usr/local/lib/python3.6/dist-packages (from tensorflow==1.15) (0.9.0)\n",
      "Requirement already satisfied: grpcio>=1.8.6 in /usr/local/lib/python3.6/dist-packages (from tensorflow==1.15) (1.27.1)\n",
      "Requirement already satisfied: termcolor>=1.1.0 in /usr/local/lib/python3.6/dist-packages (from tensorflow==1.15) (1.1.0)\n",
      "Requirement already satisfied: markdown>=2.6.8 in /usr/local/lib/python3.6/dist-packages (from tensorboard<1.16.0,>=1.15.0->tensorflow==1.15) (3.2.1)\n",
      "Requirement already satisfied: werkzeug>=0.11.15 in /usr/local/lib/python3.6/dist-packages (from tensorboard<1.16.0,>=1.15.0->tensorflow==1.15) (1.0.0)\n",
      "Requirement already satisfied: setuptools>=41.0.0 in /usr/local/lib/python3.6/dist-packages (from tensorboard<1.16.0,>=1.15.0->tensorflow==1.15) (45.1.0)\n",
      "Requirement already satisfied: h5py in /usr/local/lib/python3.6/dist-packages (from keras-applications>=1.0.8->tensorflow==1.15) (2.8.0)\n"
     ]
    }
   ],
   "source": [
    "from string import punctuation\n",
    "import os\n",
    "import re\n",
    "import time\n",
    "import datetime\n",
    "from os import listdir\n",
    "from random import shuffle\n",
    "\n",
    "from string import punctuation\n",
    "from os import listdir\n",
    "from collections import Counter\n",
    "import nltk\n",
    "from nltk.corpus import stopwords\n",
    "from nltk.util import ngrams\n",
    "\n",
    "import string\n",
    "from sklearn.model_selection import train_test_split\n",
    "from sklearn import metrics\n",
    "\n",
    "import numpy as np\n",
    "from numpy import array\n",
    "from numpy import asarray\n",
    "from numpy import zeros\n",
    "import pandas as pd\n",
    "\n",
    "!pip install tensorflow==1.15 as tf\n",
    "from keras.preprocessing.text import Tokenizer\n",
    "from keras.preprocessing.sequence import pad_sequences\n",
    "from keras.models import Sequential\n",
    "from keras.layers import Dense, Activation, Flatten, Embedding, Dropout, LSTM, Bidirectional\n",
    "from keras.layers.convolutional import Conv1D\n",
    "from keras.layers.convolutional import MaxPooling1D\n",
    "\n",
    "import matplotlib.pyplot as plt\n",
    "import seaborn as sns\n",
    "\n",
    "# !pip install h5py pyyaml "
   ]
  },
  {
   "cell_type": "code",
   "execution_count": 0,
   "metadata": {
    "colab": {
     "base_uri": "https://localhost:8080/",
     "height": 68
    },
    "colab_type": "code",
    "id": "9IoXDn5Exxsd",
    "outputId": "f4047582-de5a-43db-dd82-068398214f81"
   },
   "outputs": [
    {
     "name": "stdout",
     "output_type": "stream",
     "text": [
      "[nltk_data] Downloading package stopwords to /root/nltk_data...\n",
      "[nltk_data]   Unzipping corpora/stopwords.zip.\n"
     ]
    },
    {
     "data": {
      "text/plain": [
       "True"
      ]
     },
     "execution_count": 3,
     "metadata": {
      "tags": []
     },
     "output_type": "execute_result"
    }
   ],
   "source": [
    "# nltk.download('stopwords')"
   ]
  },
  {
   "cell_type": "code",
   "execution_count": 0,
   "metadata": {
    "colab": {
     "base_uri": "https://localhost:8080/",
     "height": 122
    },
    "colab_type": "code",
    "id": "_WTB307bl1vW",
    "outputId": "49e55a74-8f0c-49f0-c89c-87b1006f5968"
   },
   "outputs": [
    {
     "name": "stdout",
     "output_type": "stream",
     "text": [
      "Go to this URL in a browser: https://accounts.google.com/o/oauth2/auth?client_id=947318989803-6bn6qk8qdgf4n4g3pfee6491hc0brc4i.apps.googleusercontent.com&redirect_uri=urn%3aietf%3awg%3aoauth%3a2.0%3aoob&response_type=code&scope=email%20https%3a%2f%2fwww.googleapis.com%2fauth%2fdocs.test%20https%3a%2f%2fwww.googleapis.com%2fauth%2fdrive%20https%3a%2f%2fwww.googleapis.com%2fauth%2fdrive.photos.readonly%20https%3a%2f%2fwww.googleapis.com%2fauth%2fpeopleapi.readonly\n",
      "\n",
      "Enter your authorization code:\n",
      "··········\n",
      "Mounted at /content/gdrive\n"
     ]
    }
   ],
   "source": [
    "# Mount Drive\n",
    "from google.colab import drive\n",
    "drive.mount('/content/gdrive')"
   ]
  },
  {
   "cell_type": "code",
   "execution_count": 0,
   "metadata": {
    "colab": {
     "base_uri": "https://localhost:8080/",
     "height": 102
    },
    "colab_type": "code",
    "id": "IabkpH72ly5K",
    "outputId": "a69ce4ff-e4bc-439f-ca49-0c920e58838f"
   },
   "outputs": [
    {
     "name": "stdout",
     "output_type": "stream",
     "text": [
      "/content/gdrive/My Drive/MSDS422/weekeight\n",
      "/content/gdrive/My Drive/MSDS422/weekeight\n",
      "input  results\tvocab.txt\n",
      "Working Directory\n",
      "/content/gdrive/My Drive/MSDS422/weekeight\n"
     ]
    }
   ],
   "source": [
    "# Establish working directory\n",
    "%cd /content/gdrive/My\\ Drive/MSDS422/weekeight\n",
    "!pwd\n",
    "!ls\n",
    "print('Working Directory')\n",
    "print(os.getcwd())\n",
    "work_dir = \"/content/gdrive/My\\ Drive/MSDS422/weekeight\"\n",
    "# # data_dir = work_dir +\"data/\"\n",
    "# chp_id = \"rnn\""
   ]
  },
  {
   "cell_type": "markdown",
   "metadata": {
    "colab_type": "text",
    "id": "RjsXz3a50hXg"
   },
   "source": [
    "# Define functions"
   ]
  },
  {
   "cell_type": "code",
   "execution_count": 0,
   "metadata": {
    "colab": {},
    "colab_type": "code",
    "id": "oxRNs0fd0KIX"
   },
   "outputs": [],
   "source": [
    "# Load doc into memory\n",
    "def load_doc(filename):\n",
    "\t# open the file as read only\n",
    "\tfile = open(filename, 'r')\n",
    "\t# read all text\n",
    "\ttext = file.read()\n",
    "\t# close the file\n",
    "\tfile.close()\n",
    "\treturn text\n",
    " \n",
    "# Turn a doc into clean tokens\n",
    "def clean_doc(doc):\n",
    "\t# split into tokens by white space\n",
    "\ttokens = doc.split()\n",
    "\t# remove punctuation from each token\n",
    "\ttable = str.maketrans('', '', punctuation)\n",
    "\ttokens = [w.translate(table) for w in tokens]\n",
    "\t# remove remaining tokens that are not alphabetic\n",
    "\ttokens = [word for word in tokens if word.isalpha()]\n",
    "\t# filter out stop words\n",
    "\tstop_words = set(stopwords.words('english'))\n",
    " \t# stop_words = stop_words.extend(newStopWords)\n",
    "\ttokens = [w for w in tokens if not w in stop_words]\n",
    "\t# filter out short tokens\n",
    "\ttokens = [word for word in tokens if len(word) > 1]\n",
    "\treturn tokens\n",
    "\n",
    "# Load doc and add to vocab\n",
    "def add_doc_to_vocab(filename, vocab):\n",
    "\t# load doc\n",
    "\tdoc = load_doc(filename)\n",
    "\t# clean doc\n",
    "\ttokens = clean_doc(doc)\n",
    "\t# update counts\n",
    "\tvocab.update(tokens)\n",
    " \n",
    "# Load all docs in a directory\n",
    "def process_docs(directory, vocab):\n",
    "\t# walk through all files in the folder\n",
    "\tfor filename in listdir(directory):\n",
    "\t\t# # skip any reviews in the test set\n",
    "\t\t# if is_train:\n",
    "\t\t# \tcontinue\n",
    "\t\t# if not is_train:\n",
    "\t\t# \tcontinue\n",
    "\t\t# create the full path of the file to open\n",
    "\t\tpath = directory + '/' + filename\n",
    "\t\t# add doc to vocab\n",
    "\t\tadd_doc_to_vocab(path, vocab)\n"
   ]
  },
  {
   "cell_type": "markdown",
   "metadata": {
    "colab_type": "text",
    "id": "jgYIQCJi0yAP"
   },
   "source": [
    "# Explore and define vocabulary"
   ]
  },
  {
   "cell_type": "code",
   "execution_count": 0,
   "metadata": {
    "colab": {},
    "colab_type": "code",
    "id": "4VLb6nhy0xYT"
   },
   "outputs": [],
   "source": [
    "# Define vocab\n",
    "vocab = Counter()\n",
    "# Add all docs to vocab\n",
    "process_docs('input/rnn/movie-reviews-negative', vocab)\n",
    "process_docs('input/rnn/movie-reviews-positive', vocab)"
   ]
  },
  {
   "cell_type": "code",
   "execution_count": 0,
   "metadata": {
    "colab": {
     "base_uri": "https://localhost:8080/",
     "height": 71
    },
    "colab_type": "code",
    "id": "6LCGHrYq-KJB",
    "outputId": "839dd511-7448-4456-a44e-4a8ac7cb5e02"
   },
   "outputs": [
    {
     "name": "stdout",
     "output_type": "stream",
     "text": [
      "20433\n",
      "[('br', 2020), ('The', 1645), ('movie', 1490), ('film', 1449), ('one', 916), ('like', 716), ('This', 601), ('good', 560), ('story', 486), ('even', 445), ('It', 429), ('would', 421), ('see', 417), ('time', 415), ('really', 413), ('films', 353), ('great', 343), ('much', 334), ('get', 315), ('first', 314), ('bad', 309), ('movies', 309), ('made', 307), ('also', 303), ('people', 294), ('could', 288), ('make', 287), ('seen', 283), ('well', 278), ('two', 276), ('dont', 275), ('think', 272), ('characters', 271), ('plot', 269), ('acting', 266), ('character', 252), ('But', 250), ('many', 246), ('Its', 246), ('way', 246), ('And', 242), ('never', 232), ('little', 228), ('life', 223), ('watch', 222), ('love', 221), ('ever', 217), ('scene', 211), ('better', 210), ('best', 205)]\n"
     ]
    }
   ],
   "source": [
    "# Print the size of the vocab\n",
    "print(len(vocab))\n",
    "\n",
    "# Print the top words in the vocab\n",
    "print(vocab.most_common(50))"
   ]
  },
  {
   "cell_type": "markdown",
   "metadata": {
    "colab_type": "text",
    "id": "MXXLyQVrVFDG"
   },
   "source": [
    "### Figure 1: Most common 20 words in reviews"
   ]
  },
  {
   "cell_type": "code",
   "execution_count": 0,
   "metadata": {
    "colab": {
     "base_uri": "https://localhost:8080/",
     "height": 284
    },
    "colab_type": "code",
    "id": "fxHY91Pt0mdx",
    "outputId": "3fa8c7aa-68f5-4429-e5a8-eb96ff0d2776"
   },
   "outputs": [
    {
     "data": {
      "image/png": "[encoded data removed]",
      "text/plain": [
       "<Figure size 432x288 with 1 Axes>"
      ]
     },
     "metadata": {
      "tags": []
     },
     "output_type": "display_data"
    }
   ],
   "source": [
    "# Visualize 20 most common words\n",
    "plot_words = dict(Counter(vocab).most_common(20))\n",
    "labels, values = zip(*plot_words.items())\n",
    "\n",
    "# Sort values in descending order\n",
    "indSort = np.argsort(values)[::-1]\n",
    "\n",
    "# Rearrange data\n",
    "labels = np.array(labels)[indSort]\n",
    "values = np.array(values)[indSort]\n",
    "indexes = np.arange(len(labels))\n",
    "\n",
    "# Plot and add labels\n",
    "bar_width = 0.35\n",
    "plt.bar(indexes, values)\n",
    "# fig = plt.figure(figsize=(6,3))\n",
    "plt.xticks(indexes + bar_width, labels, rotation=45)\n",
    "# xticks(rotation=45) rotate x-axis labels by 45 degrees\n",
    "plt.show()"
   ]
  },
  {
   "cell_type": "code",
   "execution_count": 0,
   "metadata": {
    "colab": {
     "base_uri": "https://localhost:8080/",
     "height": 54
    },
    "colab_type": "code",
    "id": "0_xxl9cD95Jy",
    "outputId": "fd796636-c1e0-466b-d914-547f51d753b2"
   },
   "outputs": [
    {
     "name": "stdout",
     "output_type": "stream",
     "text": [
      "[('interference', 1), ('sexiness', 1), ('lighter', 1), ('Morricone', 1), ('outfits', 1), ('Fabulous', 1), ('quibbles', 1), ('unforgivable', 1), ('Convoluted', 1), ('figurine', 1), ('videoDVD', 1), ('unavailable', 1), ('sporadic', 1), ('Valentinestyle', 1), ('fatigues', 1), ('delicately', 1), ('sugarcoated', 1), ('temptations', 1), ('rammed', 1), ('Amenabar', 1), ('Majorettes', 1), ('crossbreed', 1), ('swaps', 1), ('entices', 1), ('heralds', 1), ('concrete', 1), ('template', 1), ('Kruegar', 1), ('clawfingered', 1), ('bogeyman', 1), ('playgroundbr', 1), ('maniacs', 1), ('panicstricken', 1), ('jogging', 1), ('creepilymasked', 1), ('Predator', 1), ('Schwarzenegger', 1), ('approached', 1), ('excels', 1), ('dorm', 1), ('Madrid', 1), ('assassinbr', 1), ('malevolent', 1), ('homicidal', 1), ('Hunters', 1), ('remoteness', 1), ('storekeeper', 1), ('armoury', 1), ('adversarybr', 1), ('proposes', 1)]\n"
     ]
    }
   ],
   "source": [
    "# Print the 50 least common words\n",
    "n = 50\n",
    "print(vocab.most_common()[:-n-1:-1])"
   ]
  },
  {
   "cell_type": "code",
   "execution_count": 0,
   "metadata": {
    "colab": {
     "base_uri": "https://localhost:8080/",
     "height": 34
    },
    "colab_type": "code",
    "id": "LT5XB16v0KFa",
    "outputId": "2cbace3c-0935-4cf8-a913-bdaef6a58220"
   },
   "outputs": [
    {
     "name": "stdout",
     "output_type": "stream",
     "text": [
      "9588\n"
     ]
    }
   ],
   "source": [
    "# Keep tokens with a minimum occurrence\n",
    "min_occurrence = 2\n",
    "tokens = [k for k,c in vocab.items() if c >= min_occurrence]\n",
    "print(len(tokens))"
   ]
  },
  {
   "cell_type": "code",
   "execution_count": 0,
   "metadata": {
    "colab": {},
    "colab_type": "code",
    "id": "WWWYiekozr1P"
   },
   "outputs": [],
   "source": [
    "# Save list to file\n",
    "def save_list(lines, filename):\n",
    "\t# convert lines to a single blob of text\n",
    "\tdata = '\\n'.join(lines)\n",
    "\t# open file\n",
    "\tfile = open(filename, 'w')\n",
    "\t# write text\n",
    "\tfile.write(data)\n",
    "\t# close file\n",
    "\tfile.close()\n",
    " \n",
    "# Save tokens to a vocabulary file\n",
    "save_list(tokens, 'vocab.txt')"
   ]
  },
  {
   "cell_type": "markdown",
   "metadata": {
    "colab_type": "text",
    "id": "ZCHR3wcz8kv5"
   },
   "source": [
    "# Pre-processing functions"
   ]
  },
  {
   "cell_type": "code",
   "execution_count": 0,
   "metadata": {
    "colab": {},
    "colab_type": "code",
    "id": "iDaKXFu1zr9M"
   },
   "outputs": [],
   "source": [
    "# Turn a doc into clean tokens\n",
    "def clean_doc(doc, vocab):\n",
    "\t# split into tokens by white space\n",
    "\ttokens = doc.split()\n",
    "\t# remove punctuation from each token\n",
    "\ttable = str.maketrans('', '', punctuation)\n",
    "\ttokens = [w.translate(table) for w in tokens]\n",
    "\t# filter out tokens not in vocab\n",
    "\ttokens = [w for w in tokens if w in vocab]\n",
    "\ttokens = ' '.join(tokens)\n",
    "\treturn tokens\n",
    " \n",
    "# Load all docs in a directory\n",
    "def process_docs(directory, vocab):\n",
    "\tdocuments = list()\n",
    "\t# walk through all files in the folder\n",
    "\tfor filename in listdir(directory):\n",
    "\t\t# # skip any reviews in the test set\n",
    "\t\t# if is_trian and filename.startswith('cv9'):\n",
    "\t\t# \tcontinue\n",
    "\t\t# if not is_trian and not filename.startswith('cv9'):\n",
    "\t\t# \tcontinue\n",
    "\t\t# # create the full path of the file to open\n",
    "\t\tpath = directory + '/' + filename\n",
    "\t\t# load the doc\n",
    "\t\tdoc = load_doc(path)\n",
    "\t\t# clean doc\n",
    "\t\ttokens = clean_doc(doc, vocab)\n",
    "\t\t# add to list\n",
    "\t\tdocuments.append(tokens)\n",
    "\treturn documents\n",
    " "
   ]
  },
  {
   "cell_type": "markdown",
   "metadata": {
    "colab_type": "text",
    "id": "4dA1jTIRWpWS"
   },
   "source": [
    "# Load train and test data"
   ]
  },
  {
   "cell_type": "code",
   "execution_count": 0,
   "metadata": {
    "colab": {},
    "colab_type": "code",
    "id": "VeqLn_2P4IR9"
   },
   "outputs": [],
   "source": [
    "# Load the vocabulary\n",
    "vocab_filename = 'vocab.txt'\n",
    "vocab = load_doc(vocab_filename)\n",
    "vocab = vocab.split()\n",
    "vocab = set(vocab)\n"
   ]
  },
  {
   "cell_type": "code",
   "execution_count": 0,
   "metadata": {
    "colab": {},
    "colab_type": "code",
    "id": "805tbVK94Nfw"
   },
   "outputs": [],
   "source": [
    "# Load all training reviews\n",
    "positive_docs = process_docs('input/rnn/movie-reviews-positive', vocab)\n",
    "negative_docs = process_docs('input/rnn/movie-reviews-negative', vocab)\n"
   ]
  },
  {
   "cell_type": "code",
   "execution_count": 0,
   "metadata": {
    "colab": {},
    "colab_type": "code",
    "id": "4wjwDW6D_63O"
   },
   "outputs": [],
   "source": [
    "# Assign training reviews\n",
    "train_positive = positive_docs[100:]\n",
    "train_negative = negative_docs[100:]\n",
    "train_docs = train_positive + train_negative\n",
    "\n",
    "# Create the tokenizer\n",
    "tokenizer = Tokenizer()\n",
    "# Fit the tokenizer on the documents\n",
    "tokenizer.fit_on_texts(train_docs)\n",
    " \n",
    "# Sequence encode\n",
    "encoded_docs = tokenizer.texts_to_sequences(train_docs)\n",
    "\n",
    "# Pad sequences\n",
    "max_length = max([len(s.split()) for s in train_docs])\n",
    "\n",
    "X_train = pad_sequences(encoded_docs, maxlen=max_length, padding='post')\n",
    "\n",
    "# Define training labels\n",
    "y_train = array([0 for _ in range(400)] + [1 for _ in range(400)])\n"
   ]
  },
  {
   "cell_type": "code",
   "execution_count": 0,
   "metadata": {
    "colab": {},
    "colab_type": "code",
    "id": "-ieO28BJ4SR1"
   },
   "outputs": [],
   "source": [
    "# Load all test reviews\n",
    "test_positive = positive_docs[:100]\n",
    "test_negative = negative_docs[:100]\n",
    "test_docs = test_positive + test_negative\n",
    "\n",
    "# Sequence encode\n",
    "encoded_docs = tokenizer.texts_to_sequences(test_docs)\n",
    "\n",
    "# Pad sequences\n",
    "X_test = pad_sequences(encoded_docs, maxlen=max_length, padding='post')\n",
    "# Define test labels\n",
    "y_test = array([0 for _ in range(100)] + [1 for _ in range(100)])\n",
    " "
   ]
  },
  {
   "cell_type": "code",
   "execution_count": 0,
   "metadata": {
    "colab": {
     "base_uri": "https://localhost:8080/",
     "height": 102
    },
    "colab_type": "code",
    "id": "z5D4Dm8cwFJ6",
    "outputId": "04048923-667c-4153-b24e-0a98f0e2478f"
   },
   "outputs": [
    {
     "name": "stdout",
     "output_type": "stream",
     "text": [
      "Train and test dataset shapes:\n",
      "X_train: (800, 588)\n",
      "X_test: (200, 588)\n",
      "y_train: (800,)\n",
      "y_test: (200,)\n"
     ]
    }
   ],
   "source": [
    "print(\"Train and test dataset shapes:\")\n",
    "print(\"X_train: \" + str(X_train.shape))\n",
    "print(\"X_test: \" + str(X_test.shape))\n",
    "print(\"y_train: \" + str(y_train.shape))\n",
    "print(\"y_test: \" + str(y_test.shape))"
   ]
  },
  {
   "cell_type": "code",
   "execution_count": 0,
   "metadata": {
    "colab": {},
    "colab_type": "code",
    "id": "jSOWPU4E4VCc"
   },
   "outputs": [],
   "source": [
    "# Define vocabulary size (largest integer value)\n",
    "vocab_size = len(tokenizer.word_index) + 1"
   ]
  },
  {
   "cell_type": "markdown",
   "metadata": {
    "colab_type": "text",
    "id": "1sceJZapHAYM"
   },
   "source": [
    "# Prepare pre-trained embeddings"
   ]
  },
  {
   "cell_type": "code",
   "execution_count": 0,
   "metadata": {
    "colab": {},
    "colab_type": "code",
    "id": "6xZLN3z21NyY"
   },
   "outputs": [],
   "source": [
    "# Load embedding as a dict\n",
    "def load_embedding(filename):\n",
    "\t# load embedding into memory, skip first line\n",
    "\tfile = open(filename,'r')\n",
    "\tlines = file.readlines()\n",
    "\tfile.close()\n",
    "\t# create a map of words to vectors\n",
    "\tembedding = dict()\n",
    "\tfor line in lines:\n",
    "\t\tparts = line.split()\n",
    "\t\t# key is string word, value is numpy array for vector\n",
    "\t\tembedding[parts[0]] = asarray(parts[1:], dtype='float32')\n",
    "\treturn embedding"
   ]
  },
  {
   "cell_type": "code",
   "execution_count": 0,
   "metadata": {
    "colab": {},
    "colab_type": "code",
    "id": "ifMY8Maw1Nwc"
   },
   "outputs": [],
   "source": [
    "# Create a weight matrix for the Embedding layer from a loaded embedding\n",
    "def get_weight_matrix(embedding, vocab):\n",
    "\t# total vocabulary size plus 0 for unknown words\n",
    "\tvocab_size = len(vocab) + 1\n",
    "\t# define weight matrix dimensions with all 0\n",
    "\t# weight_matrix = zeros((vocab_size, 100))\n",
    "\tweight_matrix = zeros((vocab_size, 300))\n",
    "\t# step vocab, store vectors using the Tokenizer's integer mapping\n",
    "\tfor word, i in vocab.items():\n",
    "\t\tvector = embedding.get(word)\n",
    "\t\tif vector is not None:\n",
    "\t\t\tweight_matrix[i] = vector\n",
    "\treturn weight_matrix"
   ]
  },
  {
   "cell_type": "code",
   "execution_count": 0,
   "metadata": {
    "colab": {
     "base_uri": "https://localhost:8080/",
     "height": 71
    },
    "colab_type": "code",
    "id": "ie1HR8HO5zYM",
    "outputId": "8a5e4c44-07ce-492e-a7c7-b12eab4609a5"
   },
   "outputs": [
    {
     "name": "stdout",
     "output_type": "stream",
     "text": [
      "WARNING:tensorflow:From /usr/local/lib/python3.6/dist-packages/keras/backend/tensorflow_backend.py:66: The name tf.get_default_graph is deprecated. Please use tf.compat.v1.get_default_graph instead.\n",
      "\n"
     ]
    }
   ],
   "source": [
    "# Load 100d embedding from file\n",
    "raw_embedding_small = load_embedding('input/rnn/embeddings/gloVe.6B/glove.6B.100d.txt')\n",
    "# Get vectors in the right order\n",
    "embedding_vectors_small = get_weight_matrix(raw_embedding_small, tokenizer.word_index)\n",
    "# Create the embedding layer\n",
    "embedding_layer_small = Embedding(vocab_size, 100, weights=[embedding_vectors_small], input_length=max_length, trainable=False)"
   ]
  },
  {
   "cell_type": "code",
   "execution_count": 0,
   "metadata": {
    "colab": {},
    "colab_type": "code",
    "id": "Jh3brVVG6Jz_"
   },
   "outputs": [],
   "source": [
    "# Load 300d embedding from file\n",
    "raw_embedding_large = load_embedding('input/rnn/embeddings/gloVe.6B/glove.6B.300d.txt')\n",
    "# Get vectors in the right order\n",
    "embedding_vectors_large = get_weight_matrix(raw_embedding_large, tokenizer.word_index)\n",
    "# Create the embedding layer\n",
    "embedding_layer_large = Embedding(vocab_size, 300, weights=[embedding_vectors_large], input_length=max_length, trainable=False)"
   ]
  },
  {
   "cell_type": "markdown",
   "metadata": {
    "colab_type": "text",
    "id": "gR3PRMB9Kmyu"
   },
   "source": [
    "# Model 1: learned embeddings with LSTM + sigmoid activation"
   ]
  },
  {
   "cell_type": "code",
   "execution_count": 0,
   "metadata": {
    "colab": {
     "base_uri": "https://localhost:8080/",
     "height": 306
    },
    "colab_type": "code",
    "id": "dTqLrx2uGPtf",
    "outputId": "c7db27f6-93e0-4987-ad48-88c0eb2b7090"
   },
   "outputs": [
    {
     "name": "stdout",
     "output_type": "stream",
     "text": [
      "Model: \"sequential_2\"\n",
      "_________________________________________________________________\n",
      "Layer (type)                 Output Shape              Param #   \n",
      "=================================================================\n",
      "embedding_4 (Embedding)      (None, 588, 128)          2560000   \n",
      "_________________________________________________________________\n",
      "bidirectional_2 (Bidirection (None, 128)               98816     \n",
      "_________________________________________________________________\n",
      "dropout_2 (Dropout)          (None, 128)               0         \n",
      "_________________________________________________________________\n",
      "dense_2 (Dense)              (None, 1)                 129       \n",
      "=================================================================\n",
      "Total params: 2,658,945\n",
      "Trainable params: 2,658,945\n",
      "Non-trainable params: 0\n",
      "_________________________________________________________________\n",
      "None\n"
     ]
    }
   ],
   "source": [
    "max_features = 20000\n",
    "\n",
    "model_1 = Sequential()\n",
    "model_1.add(Embedding(max_features, 128, input_length=max_length))\n",
    "model_1.add(Bidirectional(LSTM(64)))\n",
    "model_1.add(Dropout(0.5))\n",
    "model_1.add(Dense(1, activation='sigmoid'))\n",
    "print(model_1.summary())"
   ]
  },
  {
   "cell_type": "code",
   "execution_count": 0,
   "metadata": {
    "colab": {},
    "colab_type": "code",
    "id": "4tnwU9jxKl5u"
   },
   "outputs": [],
   "source": [
    "# Compile model\n",
    "model_1.compile(loss='binary_crossentropy', optimizer='adam', metrics=['accuracy'])"
   ]
  },
  {
   "cell_type": "code",
   "execution_count": 0,
   "metadata": {
    "colab": {
     "base_uri": "https://localhost:8080/",
     "height": 442
    },
    "colab_type": "code",
    "id": "CHrOVUBtKl3M",
    "outputId": "df50b81b-7ae6-462c-ba90-752be833bb7c"
   },
   "outputs": [
    {
     "name": "stdout",
     "output_type": "stream",
     "text": [
      "Epoch 1/10\n",
      " - 26s - loss: 0.6930 - acc: 0.5012\n",
      "Epoch 2/10\n",
      " - 25s - loss: 0.6777 - acc: 0.6950\n",
      "Epoch 3/10\n",
      " - 25s - loss: 0.6540 - acc: 0.7925\n",
      "Epoch 4/10\n",
      " - 25s - loss: 0.5212 - acc: 0.8825\n",
      "Epoch 5/10\n",
      " - 25s - loss: 0.3869 - acc: 0.9700\n",
      "Epoch 6/10\n",
      " - 25s - loss: 0.1809 - acc: 0.9750\n",
      "Epoch 7/10\n",
      " - 25s - loss: 0.0927 - acc: 0.9888\n",
      "Epoch 8/10\n",
      " - 26s - loss: 0.0514 - acc: 0.9950\n",
      "Epoch 9/10\n",
      " - 25s - loss: 0.0339 - acc: 0.9988\n",
      "Epoch 10/10\n",
      " - 25s - loss: 0.0242 - acc: 0.9975\n",
      "--------------------------\n",
      "Training time in seconds:  254.27\n",
      "--------------------------\n",
      "Saved trained model at results/keras_rnn_model_1.h5 \n",
      "--------------------------\n"
     ]
    }
   ],
   "source": [
    "# Fit network\n",
    "start_time = time.time()\n",
    "history = model_1.fit(X_train, y_train, epochs=10, batch_size=64, verbose=2)\n",
    "elapsed_time = time.time() - start_time\n",
    "print('--------------------------')\n",
    "print('Training time in seconds: ', round(elapsed_time,2))\n",
    "print('--------------------------')\n",
    "\n",
    "# Save models locally after fitting\n",
    "save_dir = \"results/\"\n",
    "model_name = 'keras_rnn_model_1.h5'\n",
    "model_path = os.path.join(save_dir, model_name)\n",
    "model_1.save(model_path)\n",
    "print('Saved trained model at %s ' % model_path)\n",
    "print('--------------------------')"
   ]
  },
  {
   "cell_type": "code",
   "execution_count": 0,
   "metadata": {
    "colab": {
     "base_uri": "https://localhost:8080/",
     "height": 68
    },
    "colab_type": "code",
    "id": "7-gqDuI5Klzq",
    "outputId": "17b66711-48c6-4962-db52-ef05219a88cf"
   },
   "outputs": [
    {
     "name": "stdout",
     "output_type": "stream",
     "text": [
      "Testing scores:\n",
      "Accuracy score: 0.8850\n",
      "Loss: 0.3303\n"
     ]
    }
   ],
   "source": [
    "# Final evaluation of the model\n",
    "scores = model_1.evaluate(X_test, y_test, verbose=0)\n",
    "print('Testing scores:')\n",
    "# print(\"Baseline Error: %.4f\" % (100-scores[1]*100))\n",
    "print(\"Accuracy score: %.4f\" % scores[1])\n",
    "print(\"Loss: %.4f\" % scores[0])"
   ]
  },
  {
   "cell_type": "code",
   "execution_count": 0,
   "metadata": {
    "colab": {
     "base_uri": "https://localhost:8080/",
     "height": 68
    },
    "colab_type": "code",
    "id": "tIf6WfKYxTBu",
    "outputId": "b232e078-6ad6-4805-ae33-6ffe1a894e11"
   },
   "outputs": [
    {
     "name": "stdout",
     "output_type": "stream",
     "text": [
      "Testing scores:\n",
      "Accuracy score: 0.8850\n",
      "Loss: 0.3303\n"
     ]
    }
   ],
   "source": [
    "# # Loads the weights\n",
    "# checkpoint_path = model_path = \"results/keras_rnn_model_1.h5\"\n",
    "# # model_name = 'keras_rnn_model_1.h5'\n",
    "# model_1.load_weights(checkpoint_path)\n",
    "\n",
    "# # Re-evaluate the model\n",
    "# scores_revised = model_1.evaluate(X_test, y_test, verbose=0)\n",
    "# print('Testing scores:')\n",
    "# print(\"Accuracy score: %.4f\" % scores_revised[1])\n",
    "# print(\"Loss: %.4f\" % scores_revised[0])"
   ]
  },
  {
   "cell_type": "markdown",
   "metadata": {
    "colab_type": "text",
    "id": "aPGvpGVN5KNS"
   },
   "source": [
    "### Figure 2: Learning curves for model 1"
   ]
  },
  {
   "cell_type": "code",
   "execution_count": 0,
   "metadata": {
    "colab": {
     "base_uri": "https://localhost:8080/",
     "height": 324
    },
    "colab_type": "code",
    "id": "xy8S42_kKlxa",
    "outputId": "258101f9-18c8-48f8-e281-f947e6a18780"
   },
   "outputs": [
    {
     "data": {
      "image/png": "[encoded data removed]",
      "text/plain": [
       "<Figure size 576x360 with 1 Axes>"
      ]
     },
     "metadata": {
      "tags": []
     },
     "output_type": "display_data"
    }
   ],
   "source": [
    "# Plot learning curves\n",
    "pd.DataFrame(history.history).plot(figsize=(8, 5))\n",
    "plt.grid(True)\n",
    "plt.gca().set_ylim(0, 1) # set the vertical range to [0-1]\n",
    "plt.show()"
   ]
  },
  {
   "cell_type": "code",
   "execution_count": 0,
   "metadata": {
    "colab": {},
    "colab_type": "code",
    "id": "IgkREq7QzG2R"
   },
   "outputs": [],
   "source": [
    "# Make test predictions\n",
    "y_pred = model_1.predict(X_test)"
   ]
  },
  {
   "cell_type": "code",
   "execution_count": 0,
   "metadata": {
    "colab": {},
    "colab_type": "code",
    "id": "_ErBq_fT0BJP"
   },
   "outputs": [],
   "source": [
    "# Remember, we mapped the positive outputs to 1 and the negative outputs to 0. However, the sigmoid function predicts floating \n",
    "# value between 0 and 1. If the value is less than 0.5, the sentiment is considered negative where as if the value is \n",
    "# greater than 0.5, the sentiment is considered as positive. The sentiment value for our single instance is 0.33 which means \n",
    "# that our sentiment is predicted as negative, which actually is the case."
   ]
  },
  {
   "cell_type": "markdown",
   "metadata": {
    "colab_type": "text",
    "id": "5C4c4NRI1KyI"
   },
   "source": [
    "Positive outputs are mapped to 1 and negative outputs to 0. However, the sigmoid function predicts a floating value between 0 and 1. If the value is less than 0.5, the sentiment is considered negative where as if the value is \n",
    "greater than 0.5, the sentiment is considered as positive."
   ]
  },
  {
   "cell_type": "code",
   "execution_count": 0,
   "metadata": {
    "colab": {
     "base_uri": "https://localhost:8080/",
     "height": 224
    },
    "colab_type": "code",
    "id": "eZp3RDlXzhDF",
    "outputId": "c14f5866-293b-4f3a-8eba-a99aa66fff14"
   },
   "outputs": [
    {
     "name": "stdout",
     "output_type": "stream",
     "text": [
      "Predicted prediction:\n",
      "[0.06757104]\n",
      "----------\n",
      "Review text:\n",
      "Although obviously lowbudget production performances songs movie worth seeing One Walkens musical roles date marvelous dancer singer demonstrates skills well watch Also starring Jason Connery great childrens story likable characters\n",
      "----------\n",
      "Predicted prediction:\n",
      "[0.04520619]\n",
      "----------\n",
      "Review text:\n",
      "premise rates low unfortunately also struggles raise laughs interest Only Hawns wellknown charm allows thin ice Goldies gotta contender actress whos done much career little quality material br\n"
     ]
    }
   ],
   "source": [
    "# Test on 2 reviews\n",
    "print('Predicted prediction:')\n",
    "print(y_pred[99])\n",
    "print('----------')\n",
    "print('Review text:')\n",
    "print(test_docs[99])\n",
    "print('----------')\n",
    "print('Predicted prediction:')\n",
    "print(y_pred[187])\n",
    "print('----------')\n",
    "print('Review text:')\n",
    "print(test_docs[187])"
   ]
  },
  {
   "cell_type": "markdown",
   "metadata": {
    "colab_type": "text",
    "id": "vuYhkwvCMAju"
   },
   "source": [
    "# Model 2: pre-trained embeddings (100d) with LSTM + sigmoid activation"
   ]
  },
  {
   "cell_type": "code",
   "execution_count": 0,
   "metadata": {
    "colab": {
     "base_uri": "https://localhost:8080/",
     "height": 306
    },
    "colab_type": "code",
    "id": "7co0Vb8WL4HF",
    "outputId": "d7f12310-82e1-4434-fb8d-914983e41e5c"
   },
   "outputs": [
    {
     "name": "stdout",
     "output_type": "stream",
     "text": [
      "Model: \"sequential_3\"\n",
      "_________________________________________________________________\n",
      "Layer (type)                 Output Shape              Param #   \n",
      "=================================================================\n",
      "embedding_1 (Embedding)      (None, 588, 100)          845200    \n",
      "_________________________________________________________________\n",
      "bidirectional_3 (Bidirection (None, 128)               84480     \n",
      "_________________________________________________________________\n",
      "dropout_3 (Dropout)          (None, 128)               0         \n",
      "_________________________________________________________________\n",
      "dense_3 (Dense)              (None, 1)                 129       \n",
      "=================================================================\n",
      "Total params: 929,809\n",
      "Trainable params: 84,609\n",
      "Non-trainable params: 845,200\n",
      "_________________________________________________________________\n",
      "None\n"
     ]
    }
   ],
   "source": [
    "# Define model\n",
    "model_2 = Sequential()\n",
    "model_2.add(embedding_layer_small)\n",
    "model_2.add(Bidirectional(LSTM(64)))\n",
    "model_2.add(Dropout(0.5))\n",
    "model_2.add(Dense(1, activation='sigmoid'))\n",
    "print(model_2.summary())"
   ]
  },
  {
   "cell_type": "code",
   "execution_count": 0,
   "metadata": {
    "colab": {},
    "colab_type": "code",
    "id": "VVVjvZCAL4E-"
   },
   "outputs": [],
   "source": [
    "# Compile model\n",
    "model_2.compile(loss='binary_crossentropy', optimizer='adam', metrics=['accuracy'])"
   ]
  },
  {
   "cell_type": "code",
   "execution_count": 0,
   "metadata": {
    "colab": {
     "base_uri": "https://localhost:8080/",
     "height": 442
    },
    "colab_type": "code",
    "id": "8EPMiFb-MmyU",
    "outputId": "1692458f-9651-44ab-d71a-21403231967c"
   },
   "outputs": [
    {
     "name": "stdout",
     "output_type": "stream",
     "text": [
      "Epoch 1/10\n",
      " - 25s - loss: 0.6999 - acc: 0.4863\n",
      "Epoch 2/10\n",
      " - 23s - loss: 0.6744 - acc: 0.5750\n",
      "Epoch 3/10\n",
      " - 23s - loss: 0.6426 - acc: 0.6288\n",
      "Epoch 4/10\n",
      " - 23s - loss: 0.5880 - acc: 0.7013\n",
      "Epoch 5/10\n",
      " - 24s - loss: 0.5381 - acc: 0.7338\n",
      "Epoch 6/10\n",
      " - 23s - loss: 0.5037 - acc: 0.7737\n",
      "Epoch 7/10\n",
      " - 23s - loss: 0.4865 - acc: 0.7762\n",
      "Epoch 8/10\n",
      " - 23s - loss: 0.4714 - acc: 0.7875\n",
      "Epoch 9/10\n",
      " - 23s - loss: 0.4944 - acc: 0.7812\n",
      "Epoch 10/10\n",
      " - 23s - loss: 0.4508 - acc: 0.8038\n",
      "--------------------------\n",
      "Training time in seconds:  235.51\n",
      "--------------------------\n",
      "Saved trained model at results/keras_rnn_model_2.h5 \n",
      "--------------------------\n"
     ]
    }
   ],
   "source": [
    "# Fit network\n",
    "start_time = time.time()\n",
    "history = model_2.fit(X_train, y_train, epochs=10, batch_size=64, verbose=2)\n",
    "elapsed_time = time.time() - start_time\n",
    "print('--------------------------')\n",
    "print('Training time in seconds: ', round(elapsed_time,2))\n",
    "print('--------------------------')\n",
    "\n",
    "# Save models locally after fitting\n",
    "save_dir = \"results/\"\n",
    "model_name = 'keras_rnn_model_2.h5'\n",
    "model_path = os.path.join(save_dir, model_name)\n",
    "model_2.save(model_path)\n",
    "print('Saved trained model at %s ' % model_path)\n",
    "print('--------------------------')"
   ]
  },
  {
   "cell_type": "code",
   "execution_count": 0,
   "metadata": {
    "colab": {
     "base_uri": "https://localhost:8080/",
     "height": 68
    },
    "colab_type": "code",
    "id": "HTGir418Mmwe",
    "outputId": "e87c2c49-3345-40c4-b134-bf500772aa1c"
   },
   "outputs": [
    {
     "name": "stdout",
     "output_type": "stream",
     "text": [
      "Testing scores:\n",
      "Accuracy score: 0.7150\n",
      "Loss: 0.5887\n"
     ]
    }
   ],
   "source": [
    "# Final evaluation of the model\n",
    "scores = model_2.evaluate(X_test, y_test, verbose=0)\n",
    "print('Testing scores:')\n",
    "# print(\"Baseline Error: %.4f\" % (100-scores[1]*100))\n",
    "print(\"Accuracy score: %.4f\" % scores[1])\n",
    "print(\"Loss: %.4f\" % scores[0])"
   ]
  },
  {
   "cell_type": "code",
   "execution_count": 0,
   "metadata": {
    "colab": {
     "base_uri": "https://localhost:8080/",
     "height": 68
    },
    "colab_type": "code",
    "id": "Wz9fzNMT1yYt",
    "outputId": "c207c242-ecf7-4516-a11e-a32226c9138d"
   },
   "outputs": [
    {
     "name": "stdout",
     "output_type": "stream",
     "text": [
      "Testing scores:\n",
      "Accuracy score: 0.7150\n",
      "Loss: 0.5887\n"
     ]
    }
   ],
   "source": [
    "# # Loads the weights\n",
    "# checkpoint_path = model_path = \"results/keras_rnn_model_2.h5\"\n",
    "# # model_name = 'keras_rnn_model_2.h5'\n",
    "# model_2.load_weights(checkpoint_path)\n",
    "\n",
    "# # Re-evaluate the model\n",
    "# scores_revised = model_2.evaluate(X_test, y_test, verbose=0)\n",
    "# print('Testing scores:')\n",
    "# print(\"Accuracy score: %.4f\" % scores_revised[1])\n",
    "# print(\"Loss: %.4f\" % scores_revised[0])"
   ]
  },
  {
   "cell_type": "markdown",
   "metadata": {
    "colab_type": "text",
    "id": "6owZaGjC5O_h"
   },
   "source": [
    "### Figure 3: Learning curves for model 2"
   ]
  },
  {
   "cell_type": "code",
   "execution_count": 0,
   "metadata": {
    "colab": {
     "base_uri": "https://localhost:8080/",
     "height": 324
    },
    "colab_type": "code",
    "id": "HdW1Eld1MmtZ",
    "outputId": "1138dc25-b309-4564-ff45-6a52e0e549dc"
   },
   "outputs": [
    {
     "data": {
      "image/png": "[encoded data removed]",
      "text/plain": [
       "<Figure size 576x360 with 1 Axes>"
      ]
     },
     "metadata": {
      "tags": []
     },
     "output_type": "display_data"
    }
   ],
   "source": [
    "# Plot learning curves\n",
    "pd.DataFrame(history.history).plot(figsize=(8, 5))\n",
    "plt.grid(True)\n",
    "plt.gca().set_ylim(0, 1) # set the vertical range to [0-1]\n",
    "plt.show()"
   ]
  },
  {
   "cell_type": "code",
   "execution_count": 0,
   "metadata": {
    "colab": {},
    "colab_type": "code",
    "id": "SmDnnGcs1pwt"
   },
   "outputs": [],
   "source": [
    "# Make test predictions\n",
    "y_pred = model_2.predict(X_test)"
   ]
  },
  {
   "cell_type": "code",
   "execution_count": 0,
   "metadata": {
    "colab": {
     "base_uri": "https://localhost:8080/",
     "height": 224
    },
    "colab_type": "code",
    "id": "qIRCXf2_1rNg",
    "outputId": "bf12a199-c34e-4444-ad88-663b35a5c55a"
   },
   "outputs": [
    {
     "name": "stdout",
     "output_type": "stream",
     "text": [
      "Predicted prediction:\n",
      "[0.09684515]\n",
      "----------\n",
      "Review text:\n",
      "Although obviously lowbudget production performances songs movie worth seeing One Walkens musical roles date marvelous dancer singer demonstrates skills well watch Also starring Jason Connery great childrens story likable characters\n",
      "----------\n",
      "Predicted prediction:\n",
      "[0.38425595]\n",
      "----------\n",
      "Review text:\n",
      "premise rates low unfortunately also struggles raise laughs interest Only Hawns wellknown charm allows thin ice Goldies gotta contender actress whos done much career little quality material br\n"
     ]
    }
   ],
   "source": [
    "# Test on 2 reviews\n",
    "print('Predicted prediction:')\n",
    "print(y_pred[99])\n",
    "print('----------')\n",
    "print('Review text:')\n",
    "print(test_docs[99])\n",
    "print('----------')\n",
    "print('Predicted prediction:')\n",
    "print(y_pred[187])\n",
    "print('----------')\n",
    "print('Review text:')\n",
    "print(test_docs[187])"
   ]
  },
  {
   "cell_type": "markdown",
   "metadata": {
    "colab_type": "text",
    "id": "kW9dCl6_3oy8"
   },
   "source": [
    "# Model 3: # pre-trained embeddings (300d) with LSTM + sigmoid activation"
   ]
  },
  {
   "cell_type": "code",
   "execution_count": 0,
   "metadata": {
    "colab": {
     "base_uri": "https://localhost:8080/",
     "height": 306
    },
    "colab_type": "code",
    "id": "SRbFGBD23nnP",
    "outputId": "f1e3de74-a313-4df2-8776-12032674c9bb"
   },
   "outputs": [
    {
     "name": "stdout",
     "output_type": "stream",
     "text": [
      "Model: \"sequential_4\"\n",
      "_________________________________________________________________\n",
      "Layer (type)                 Output Shape              Param #   \n",
      "=================================================================\n",
      "embedding_2 (Embedding)      (None, 588, 300)          2535600   \n",
      "_________________________________________________________________\n",
      "bidirectional_4 (Bidirection (None, 128)               186880    \n",
      "_________________________________________________________________\n",
      "dropout_4 (Dropout)          (None, 128)               0         \n",
      "_________________________________________________________________\n",
      "dense_4 (Dense)              (None, 1)                 129       \n",
      "=================================================================\n",
      "Total params: 2,722,609\n",
      "Trainable params: 187,009\n",
      "Non-trainable params: 2,535,600\n",
      "_________________________________________________________________\n",
      "None\n"
     ]
    }
   ],
   "source": [
    "# Define model\n",
    "model_3 = Sequential()\n",
    "model_3.add(embedding_layer_large)\n",
    "model_3.add(Bidirectional(LSTM(64)))\n",
    "model_3.add(Dropout(0.5))\n",
    "model_3.add(Dense(1, activation='sigmoid'))\n",
    "print(model_3.summary())"
   ]
  },
  {
   "cell_type": "code",
   "execution_count": 0,
   "metadata": {
    "colab": {},
    "colab_type": "code",
    "id": "qZLV944N3nwr"
   },
   "outputs": [],
   "source": [
    "# Compile model\n",
    "model_3.compile(loss='binary_crossentropy', optimizer='adam', metrics=['accuracy'])"
   ]
  },
  {
   "cell_type": "code",
   "execution_count": 0,
   "metadata": {
    "colab": {
     "base_uri": "https://localhost:8080/",
     "height": 442
    },
    "colab_type": "code",
    "id": "n-DbU-0F3n6W",
    "outputId": "42dfd1c8-f18a-45d7-9a70-cc644d3773f0"
   },
   "outputs": [
    {
     "name": "stdout",
     "output_type": "stream",
     "text": [
      "Epoch 1/10\n",
      " - 25s - loss: 0.6904 - acc: 0.5262\n",
      "Epoch 2/10\n",
      " - 23s - loss: 0.6461 - acc: 0.6438\n",
      "Epoch 3/10\n",
      " - 24s - loss: 0.5854 - acc: 0.7087\n",
      "Epoch 4/10\n",
      " - 24s - loss: 0.4993 - acc: 0.7725\n",
      "Epoch 5/10\n",
      " - 24s - loss: 0.4526 - acc: 0.7975\n",
      "Epoch 6/10\n",
      " - 24s - loss: 0.4017 - acc: 0.8263\n",
      "Epoch 7/10\n",
      " - 24s - loss: 0.3398 - acc: 0.8588\n",
      "Epoch 8/10\n",
      " - 24s - loss: 0.3335 - acc: 0.8675\n",
      "Epoch 9/10\n",
      " - 24s - loss: 0.3199 - acc: 0.8725\n",
      "Epoch 10/10\n",
      " - 24s - loss: 0.2601 - acc: 0.8962\n",
      "--------------------------\n",
      "Training time in seconds:  241.48\n",
      "--------------------------\n",
      "Saved trained model at results/keras_rnn_model_3.h5 \n",
      "--------------------------\n"
     ]
    }
   ],
   "source": [
    "# Fit network\n",
    "start_time = time.time()\n",
    "history = model_3.fit(X_train, y_train, epochs=10, batch_size=64, verbose=2)\n",
    "elapsed_time = time.time() - start_time\n",
    "print('--------------------------')\n",
    "print('Training time in seconds: ', round(elapsed_time,2))\n",
    "print('--------------------------')\n",
    "\n",
    "# Save models locally after fitting\n",
    "save_dir = \"results/\"\n",
    "model_name = 'keras_rnn_model_3.h5'\n",
    "model_path = os.path.join(save_dir, model_name)\n",
    "model_3.save(model_path)\n",
    "print('Saved trained model at %s ' % model_path)\n",
    "print('--------------------------')"
   ]
  },
  {
   "cell_type": "code",
   "execution_count": 0,
   "metadata": {
    "colab": {
     "base_uri": "https://localhost:8080/",
     "height": 68
    },
    "colab_type": "code",
    "id": "PSptPw3h35U7",
    "outputId": "4ed440b3-9979-49bb-b022-ef55d2f47635"
   },
   "outputs": [
    {
     "name": "stdout",
     "output_type": "stream",
     "text": [
      "Testing scores:\n",
      "Accuracy score: 0.7800\n",
      "Loss: 0.5014\n"
     ]
    }
   ],
   "source": [
    "# Final evaluation of the model\n",
    "scores = model_3.evaluate(X_test, y_test, verbose=0)\n",
    "print('Testing scores:')\n",
    "# print(\"Baseline Error: %.4f\" % (100-scores[1]*100))\n",
    "print(\"Accuracy score: %.4f\" % scores[1])\n",
    "print(\"Loss: %.4f\" % scores[0])"
   ]
  },
  {
   "cell_type": "code",
   "execution_count": 0,
   "metadata": {
    "colab": {
     "base_uri": "https://localhost:8080/",
     "height": 68
    },
    "colab_type": "code",
    "id": "2oCVS2_E2IZf",
    "outputId": "5127bdb8-deb6-4730-8075-f6a0a2da6e67"
   },
   "outputs": [
    {
     "name": "stdout",
     "output_type": "stream",
     "text": [
      "Testing scores:\n",
      "Accuracy score: 0.7800\n",
      "Loss: 0.5014\n"
     ]
    }
   ],
   "source": [
    "# # Load the weights\n",
    "# checkpoint_path = model_path = \"results/keras_rnn_model_3.h5\"\n",
    "# # model_name = 'keras_rnn_model_3.h5'\n",
    "# model_3.load_weights(checkpoint_path)\n",
    "\n",
    "# # Re-evaluate the model\n",
    "# scores_revised = model_3.evaluate(X_test, y_test, verbose=0)\n",
    "# print('Testing scores:')\n",
    "# print(\"Accuracy score: %.4f\" % scores_revised[1])\n",
    "# print(\"Loss: %.4f\" % scores_revised[0])"
   ]
  },
  {
   "cell_type": "markdown",
   "metadata": {
    "colab_type": "text",
    "id": "WvoQeqIY5R5v"
   },
   "source": [
    "### Figure 4: Learning curves for model 3"
   ]
  },
  {
   "cell_type": "code",
   "execution_count": 0,
   "metadata": {
    "colab": {
     "base_uri": "https://localhost:8080/",
     "height": 324
    },
    "colab_type": "code",
    "id": "H4osBzY735eL",
    "outputId": "ae548e9d-9f78-41a3-a428-b6bd7756a6a3"
   },
   "outputs": [
    {
     "data": {
      "image/png": "[encoded data removed]",
      "text/plain": [
       "<Figure size 576x360 with 1 Axes>"
      ]
     },
     "metadata": {
      "tags": []
     },
     "output_type": "display_data"
    }
   ],
   "source": [
    "# Plot learning curves\n",
    "pd.DataFrame(history.history).plot(figsize=(8, 5))\n",
    "plt.grid(True)\n",
    "plt.gca().set_ylim(0, 1) # set the vertical range to [0-1]\n",
    "plt.show()"
   ]
  },
  {
   "cell_type": "code",
   "execution_count": 0,
   "metadata": {
    "colab": {},
    "colab_type": "code",
    "id": "xpxuIxJy2Rer"
   },
   "outputs": [],
   "source": [
    "# Make test predictions\n",
    "y_pred = model_3.predict(X_test)"
   ]
  },
  {
   "cell_type": "code",
   "execution_count": 0,
   "metadata": {
    "colab": {
     "base_uri": "https://localhost:8080/",
     "height": 224
    },
    "colab_type": "code",
    "id": "B52MdeJ72Rkw",
    "outputId": "f55085cf-be84-4b4a-d556-f1c8bfb8273e"
   },
   "outputs": [
    {
     "name": "stdout",
     "output_type": "stream",
     "text": [
      "Predicted prediction:\n",
      "[0.01844606]\n",
      "----------\n",
      "Review text:\n",
      "Although obviously lowbudget production performances songs movie worth seeing One Walkens musical roles date marvelous dancer singer demonstrates skills well watch Also starring Jason Connery great childrens story likable characters\n",
      "----------\n",
      "Predicted prediction:\n",
      "[0.49519494]\n",
      "----------\n",
      "Review text:\n",
      "premise rates low unfortunately also struggles raise laughs interest Only Hawns wellknown charm allows thin ice Goldies gotta contender actress whos done much career little quality material br\n"
     ]
    }
   ],
   "source": [
    "# Test on 2 reviews\n",
    "print('Predicted prediction:')\n",
    "print(y_pred[99])\n",
    "print('----------')\n",
    "print('Review text:')\n",
    "print(test_docs[99])\n",
    "print('----------')\n",
    "print('Predicted prediction:')\n",
    "print(y_pred[187])\n",
    "print('----------')\n",
    "print('Review text:')\n",
    "print(test_docs[187])"
   ]
  },
  {
   "cell_type": "markdown",
   "metadata": {
    "colab_type": "text",
    "id": "r0TPGcZ8Js9-"
   },
   "source": [
    "# Model 4: learned embeddings with LSTM + ReLU activation"
   ]
  },
  {
   "cell_type": "code",
   "execution_count": 0,
   "metadata": {
    "colab": {
     "base_uri": "https://localhost:8080/",
     "height": 306
    },
    "colab_type": "code",
    "id": "UG6h5oj0Jr6t",
    "outputId": "371b8096-3e9d-4a54-b04d-f56f923ef872"
   },
   "outputs": [
    {
     "name": "stdout",
     "output_type": "stream",
     "text": [
      "Model: \"sequential_5\"\n",
      "_________________________________________________________________\n",
      "Layer (type)                 Output Shape              Param #   \n",
      "=================================================================\n",
      "embedding_5 (Embedding)      (None, 588, 128)          2560000   \n",
      "_________________________________________________________________\n",
      "bidirectional_5 (Bidirection (None, 128)               98816     \n",
      "_________________________________________________________________\n",
      "dropout_5 (Dropout)          (None, 128)               0         \n",
      "_________________________________________________________________\n",
      "dense_5 (Dense)              (None, 1)                 129       \n",
      "=================================================================\n",
      "Total params: 2,658,945\n",
      "Trainable params: 2,658,945\n",
      "Non-trainable params: 0\n",
      "_________________________________________________________________\n",
      "None\n"
     ]
    }
   ],
   "source": [
    "model_4 = Sequential()\n",
    "model_4.add(Embedding(max_features, 128, input_length=max_length))\n",
    "model_4.add(Bidirectional(LSTM(64)))\n",
    "model_4.add(Dropout(0.5))\n",
    "model_4.add(Dense(1, activation='relu'))\n",
    "print(model_4.summary())"
   ]
  },
  {
   "cell_type": "code",
   "execution_count": 0,
   "metadata": {
    "colab": {},
    "colab_type": "code",
    "id": "MrIqIZH4Jr3Q"
   },
   "outputs": [],
   "source": [
    "# Compile model\n",
    "model_4.compile(loss='binary_crossentropy', optimizer='adam', metrics=['accuracy'])"
   ]
  },
  {
   "cell_type": "code",
   "execution_count": 0,
   "metadata": {
    "colab": {
     "base_uri": "https://localhost:8080/",
     "height": 442
    },
    "colab_type": "code",
    "id": "25zaMESaJr0f",
    "outputId": "b1e6dbbb-caea-49df-b85a-89de72a802a4"
   },
   "outputs": [
    {
     "name": "stdout",
     "output_type": "stream",
     "text": [
      "Epoch 1/10\n",
      " - 28s - loss: 1.3264 - acc: 0.5025\n",
      "Epoch 2/10\n",
      " - 26s - loss: 0.6856 - acc: 0.5787\n",
      "Epoch 3/10\n",
      " - 26s - loss: 0.5810 - acc: 0.7737\n",
      "Epoch 4/10\n",
      " - 26s - loss: 0.6565 - acc: 0.7275\n",
      "Epoch 5/10\n",
      " - 26s - loss: 0.5293 - acc: 0.6100\n",
      "Epoch 6/10\n",
      " - 26s - loss: 0.4240 - acc: 0.8313\n",
      "Epoch 7/10\n",
      " - 26s - loss: 0.2976 - acc: 0.9563\n",
      "Epoch 8/10\n",
      " - 26s - loss: 0.1914 - acc: 0.9575\n",
      "Epoch 9/10\n",
      " - 25s - loss: 0.1049 - acc: 0.9300\n",
      "Epoch 10/10\n",
      " - 25s - loss: 0.0573 - acc: 0.8650\n",
      "--------------------------\n",
      "Training time in seconds:  260.68\n",
      "--------------------------\n",
      "Saved trained model at results/keras_rnn_model_4.h5 \n",
      "--------------------------\n"
     ]
    }
   ],
   "source": [
    "# Fit network\n",
    "start_time = time.time()\n",
    "history = model_4.fit(X_train, y_train, epochs=10, batch_size=64, verbose=2)\n",
    "elapsed_time = time.time() - start_time\n",
    "print('--------------------------')\n",
    "print('Training time in seconds: ', round(elapsed_time,2))\n",
    "print('--------------------------')\n",
    "\n",
    "# Save models locally after fitting\n",
    "save_dir = \"results/\"\n",
    "model_name = 'keras_rnn_model_4.h5'\n",
    "model_path = os.path.join(save_dir, model_name)\n",
    "model_4.save(model_path)\n",
    "print('Saved trained model at %s ' % model_path)\n",
    "print('--------------------------')"
   ]
  },
  {
   "cell_type": "code",
   "execution_count": 0,
   "metadata": {
    "colab": {
     "base_uri": "https://localhost:8080/",
     "height": 68
    },
    "colab_type": "code",
    "id": "kfdS-dYFJrxw",
    "outputId": "4d1b27ef-29e7-45a2-926d-767588168cd8"
   },
   "outputs": [
    {
     "name": "stdout",
     "output_type": "stream",
     "text": [
      "Testing scores:\n",
      "Accuracy score: 0.7400\n",
      "Loss: 0.6022\n"
     ]
    }
   ],
   "source": [
    "# Final evaluation of the model\n",
    "scores = model_4.evaluate(X_test, y_test, verbose=0)\n",
    "print('Testing scores:')\n",
    "# print(\"Baseline Error: %.4f\" % (100-scores[1]*100))\n",
    "print(\"Accuracy score: %.4f\" % scores[1])\n",
    "print(\"Loss: %.4f\" % scores[0])"
   ]
  },
  {
   "cell_type": "code",
   "execution_count": 0,
   "metadata": {
    "colab": {
     "base_uri": "https://localhost:8080/",
     "height": 68
    },
    "colab_type": "code",
    "id": "BfqRGCVF2272",
    "outputId": "464f3df0-f93b-4fc2-d062-63aae1f60783"
   },
   "outputs": [
    {
     "name": "stdout",
     "output_type": "stream",
     "text": [
      "Testing scores:\n",
      "Accuracy score: 0.7400\n",
      "Loss: 0.6022\n"
     ]
    }
   ],
   "source": [
    "# # Load the weights\n",
    "# checkpoint_path = model_path = \"results/keras_rnn_model_4.h5\"\n",
    "# # model_name = 'keras_rnn_model_4.h5'\n",
    "# model_4.load_weights(checkpoint_path)\n",
    "\n",
    "# # Re-evaluate the model\n",
    "# scores_revised = model_4.evaluate(X_test, y_test, verbose=0)\n",
    "# print('Testing scores:')\n",
    "# print(\"Accuracy score: %.4f\" % scores_revised[1])\n",
    "# print(\"Loss: %.4f\" % scores_revised[0])"
   ]
  },
  {
   "cell_type": "markdown",
   "metadata": {
    "colab_type": "text",
    "id": "dvXsfdNd5VEe"
   },
   "source": [
    "### Figure 5: Learning curves for model 4"
   ]
  },
  {
   "cell_type": "code",
   "execution_count": 0,
   "metadata": {
    "colab": {
     "base_uri": "https://localhost:8080/",
     "height": 324
    },
    "colab_type": "code",
    "id": "_aucta54Jruy",
    "outputId": "417c7182-7ee8-4858-b689-7c646b8f0905"
   },
   "outputs": [
    {
     "data": {
      "image/png": "[encoded data removed]",
      "text/plain": [
       "<Figure size 576x360 with 1 Axes>"
      ]
     },
     "metadata": {
      "tags": []
     },
     "output_type": "display_data"
    }
   ],
   "source": [
    "# Plot learning curves\n",
    "pd.DataFrame(history.history).plot(figsize=(8, 5))\n",
    "plt.grid(True)\n",
    "plt.gca().set_ylim(0, 1) # set the vertical range to [0-1]\n",
    "plt.show()"
   ]
  },
  {
   "cell_type": "code",
   "execution_count": 0,
   "metadata": {
    "colab": {},
    "colab_type": "code",
    "id": "i4DJaj_I3CkT"
   },
   "outputs": [],
   "source": [
    "# Make test predictions\n",
    "y_pred = model_4.predict(X_test)"
   ]
  },
  {
   "cell_type": "code",
   "execution_count": 0,
   "metadata": {
    "colab": {
     "base_uri": "https://localhost:8080/",
     "height": 224
    },
    "colab_type": "code",
    "id": "AhkE0GpJ3ChZ",
    "outputId": "f0971cd6-5873-46dd-a8f6-d42ad5fecafb"
   },
   "outputs": [
    {
     "name": "stdout",
     "output_type": "stream",
     "text": [
      "Predicted prediction:\n",
      "[0.7112041]\n",
      "----------\n",
      "Review text:\n",
      "Although obviously lowbudget production performances songs movie worth seeing One Walkens musical roles date marvelous dancer singer demonstrates skills well watch Also starring Jason Connery great childrens story likable characters\n",
      "----------\n",
      "Predicted prediction:\n",
      "[0.52824414]\n",
      "----------\n",
      "Review text:\n",
      "premise rates low unfortunately also struggles raise laughs interest Only Hawns wellknown charm allows thin ice Goldies gotta contender actress whos done much career little quality material br\n"
     ]
    }
   ],
   "source": [
    "# Test on 2 reviews\n",
    "print('Predicted prediction:')\n",
    "print(y_pred[99])\n",
    "print('----------')\n",
    "print('Review text:')\n",
    "print(test_docs[99])\n",
    "print('----------')\n",
    "print('Predicted prediction:')\n",
    "print(y_pred[187])\n",
    "print('----------')\n",
    "print('Review text:')\n",
    "print(test_docs[187])"
   ]
  },
  {
   "cell_type": "markdown",
   "metadata": {
    "colab_type": "text",
    "id": "DtddwZVXLKiB"
   },
   "source": [
    "# Model 5: pre-trained embeddings (100d) with LSTM + ReLU activation"
   ]
  },
  {
   "cell_type": "code",
   "execution_count": 0,
   "metadata": {
    "colab": {
     "base_uri": "https://localhost:8080/",
     "height": 306
    },
    "colab_type": "code",
    "id": "sP3zZzB_Jrpd",
    "outputId": "558af8d9-fb29-4ff9-958c-814fc875eca7"
   },
   "outputs": [
    {
     "name": "stdout",
     "output_type": "stream",
     "text": [
      "Model: \"sequential_6\"\n",
      "_________________________________________________________________\n",
      "Layer (type)                 Output Shape              Param #   \n",
      "=================================================================\n",
      "embedding_1 (Embedding)      (None, 588, 100)          845200    \n",
      "_________________________________________________________________\n",
      "bidirectional_6 (Bidirection (None, 128)               84480     \n",
      "_________________________________________________________________\n",
      "dropout_6 (Dropout)          (None, 128)               0         \n",
      "_________________________________________________________________\n",
      "dense_6 (Dense)              (None, 1)                 129       \n",
      "=================================================================\n",
      "Total params: 929,809\n",
      "Trainable params: 84,609\n",
      "Non-trainable params: 845,200\n",
      "_________________________________________________________________\n",
      "None\n"
     ]
    }
   ],
   "source": [
    "# Define model\n",
    "model_5 = Sequential()\n",
    "model_5.add(embedding_layer_small)\n",
    "model_5.add(Bidirectional(LSTM(64)))\n",
    "model_5.add(Dropout(0.5))\n",
    "model_5.add(Dense(1, activation='relu'))\n",
    "print(model_5.summary())"
   ]
  },
  {
   "cell_type": "code",
   "execution_count": 0,
   "metadata": {
    "colab": {},
    "colab_type": "code",
    "id": "Rf4WOfc6JrnQ"
   },
   "outputs": [],
   "source": [
    "# Compile model\n",
    "model_5.compile(loss='binary_crossentropy', optimizer='adam', metrics=['accuracy'])"
   ]
  },
  {
   "cell_type": "code",
   "execution_count": 0,
   "metadata": {
    "colab": {
     "base_uri": "https://localhost:8080/",
     "height": 442
    },
    "colab_type": "code",
    "id": "V4MzauakJrjz",
    "outputId": "1e283076-f542-45fe-a505-e2e47850b8f6"
   },
   "outputs": [
    {
     "name": "stdout",
     "output_type": "stream",
     "text": [
      "Epoch 1/10\n",
      " - 26s - loss: 1.6345 - acc: 0.5175\n",
      "Epoch 2/10\n",
      " - 24s - loss: 0.9490 - acc: 0.4925\n",
      "Epoch 3/10\n",
      " - 24s - loss: 0.9786 - acc: 0.4788\n",
      "Epoch 4/10\n",
      " - 23s - loss: 0.8335 - acc: 0.5262\n",
      "Epoch 5/10\n",
      " - 24s - loss: 0.7562 - acc: 0.5288\n",
      "Epoch 6/10\n",
      " - 24s - loss: 0.7081 - acc: 0.5650\n",
      "Epoch 7/10\n",
      " - 23s - loss: 0.7292 - acc: 0.5425\n",
      "Epoch 8/10\n",
      " - 24s - loss: 0.7816 - acc: 0.5225\n",
      "Epoch 9/10\n",
      " - 24s - loss: 0.7126 - acc: 0.5337\n",
      "Epoch 10/10\n",
      " - 23s - loss: 0.6901 - acc: 0.5563\n",
      "--------------------------\n",
      "Training time in seconds:  241.25\n",
      "--------------------------\n",
      "Saved trained model at results/keras_rnn_model_5.h5 \n",
      "--------------------------\n"
     ]
    }
   ],
   "source": [
    "# Fit network\n",
    "start_time = time.time()\n",
    "history = model_5.fit(X_train, y_train, epochs=10, batch_size=64, verbose=2)\n",
    "elapsed_time = time.time() - start_time\n",
    "print('--------------------------')\n",
    "print('Training time in seconds: ', round(elapsed_time,2))\n",
    "print('--------------------------')\n",
    "\n",
    "# Save models locally after fitting\n",
    "save_dir = \"results/\"\n",
    "model_name = 'keras_rnn_model_5.h5'\n",
    "model_path = os.path.join(save_dir, model_name)\n",
    "model_5.save(model_path)\n",
    "print('Saved trained model at %s ' % model_path)\n",
    "print('--------------------------')"
   ]
  },
  {
   "cell_type": "code",
   "execution_count": 0,
   "metadata": {
    "colab": {
     "base_uri": "https://localhost:8080/",
     "height": 68
    },
    "colab_type": "code",
    "id": "ShLrnYDDJrgU",
    "outputId": "b5fad8ae-2403-464f-d0c4-5975d7a6d36a"
   },
   "outputs": [
    {
     "name": "stdout",
     "output_type": "stream",
     "text": [
      "Testing scores:\n",
      "Accuracy score: 0.5600\n",
      "Loss: 0.6782\n"
     ]
    }
   ],
   "source": [
    "# Final evaluation of the model\n",
    "scores = model_5.evaluate(X_test, y_test, verbose=0)\n",
    "print('Testing scores:')\n",
    "# print(\"Baseline Error: %.4f\" % (100-scores[1]*100))\n",
    "print(\"Accuracy score: %.4f\" % scores[1])\n",
    "print(\"Loss: %.4f\" % scores[0])"
   ]
  },
  {
   "cell_type": "code",
   "execution_count": 0,
   "metadata": {
    "colab": {
     "base_uri": "https://localhost:8080/",
     "height": 68
    },
    "colab_type": "code",
    "id": "9odd81Xe3Lnw",
    "outputId": "9c1df1e1-b1d6-4da4-d48e-b999b18130f2"
   },
   "outputs": [
    {
     "name": "stdout",
     "output_type": "stream",
     "text": [
      "Testing scores:\n",
      "Accuracy score: 0.5600\n",
      "Loss: 0.6782\n"
     ]
    }
   ],
   "source": [
    "# # Load the weights\n",
    "# checkpoint_path = model_path = \"results/keras_rnn_model_5.h5\"\n",
    "# # model_name = 'keras_rnn_model_4.h5'\n",
    "# model_5.load_weights(checkpoint_path)\n",
    "\n",
    "# # Re-evaluate the model\n",
    "# scores_revised = model_5.evaluate(X_test, y_test, verbose=0)\n",
    "# print('Testing scores:')\n",
    "# print(\"Accuracy score: %.4f\" % scores_revised[1])\n",
    "# print(\"Loss: %.4f\" % scores_revised[0])"
   ]
  },
  {
   "cell_type": "markdown",
   "metadata": {
    "colab_type": "text",
    "id": "_OL54FCK5YEG"
   },
   "source": [
    "### Figure 6: Learning curves for model 5"
   ]
  },
  {
   "cell_type": "code",
   "execution_count": 0,
   "metadata": {
    "colab": {
     "base_uri": "https://localhost:8080/",
     "height": 324
    },
    "colab_type": "code",
    "id": "wgRapxhZLiie",
    "outputId": "3ad5dc5c-8aa0-4ff2-ba34-37fa9e854271"
   },
   "outputs": [
    {
     "data": {
      "image/png": "[encoded data removed]",
      "text/plain": [
       "<Figure size 576x360 with 1 Axes>"
      ]
     },
     "metadata": {
      "tags": []
     },
     "output_type": "display_data"
    }
   ],
   "source": [
    "# Plot learning curves\n",
    "pd.DataFrame(history.history).plot(figsize=(8, 5))\n",
    "plt.grid(True)\n",
    "plt.gca().set_ylim(0, 1) # set the vertical range to [0-1]\n",
    "plt.show()"
   ]
  },
  {
   "cell_type": "code",
   "execution_count": 0,
   "metadata": {
    "colab": {},
    "colab_type": "code",
    "id": "HxO99Pyf3Wb6"
   },
   "outputs": [],
   "source": [
    "# Make test predictions\n",
    "y_pred = model_5.predict(X_test)"
   ]
  },
  {
   "cell_type": "code",
   "execution_count": 0,
   "metadata": {
    "colab": {
     "base_uri": "https://localhost:8080/",
     "height": 224
    },
    "colab_type": "code",
    "id": "O3yE8G153WcA",
    "outputId": "59d86119-8dd1-47ea-e3ad-7436b137159a"
   },
   "outputs": [
    {
     "name": "stdout",
     "output_type": "stream",
     "text": [
      "Predicted prediction:\n",
      "[0.3794259]\n",
      "----------\n",
      "Review text:\n",
      "Although obviously lowbudget production performances songs movie worth seeing One Walkens musical roles date marvelous dancer singer demonstrates skills well watch Also starring Jason Connery great childrens story likable characters\n",
      "----------\n",
      "Predicted prediction:\n",
      "[0.5480095]\n",
      "----------\n",
      "Review text:\n",
      "premise rates low unfortunately also struggles raise laughs interest Only Hawns wellknown charm allows thin ice Goldies gotta contender actress whos done much career little quality material br\n"
     ]
    }
   ],
   "source": [
    "# Test on 2 reviews\n",
    "print('Predicted prediction:')\n",
    "print(y_pred[99])\n",
    "print('----------')\n",
    "print('Review text:')\n",
    "print(test_docs[99])\n",
    "print('----------')\n",
    "print('Predicted prediction:')\n",
    "print(y_pred[187])\n",
    "print('----------')\n",
    "print('Review text:')\n",
    "print(test_docs[187])"
   ]
  },
  {
   "cell_type": "markdown",
   "metadata": {
    "colab_type": "text",
    "id": "BzWDU2jL8-z9"
   },
   "source": [
    "# Model 6: pre-trained embeddings (300d) with LSTM + ReLU activation"
   ]
  },
  {
   "cell_type": "code",
   "execution_count": 0,
   "metadata": {
    "colab": {
     "base_uri": "https://localhost:8080/",
     "height": 306
    },
    "colab_type": "code",
    "id": "AVzgeNOKLipJ",
    "outputId": "55864d3c-7b63-40e8-a527-c06f7b89d32a"
   },
   "outputs": [
    {
     "name": "stdout",
     "output_type": "stream",
     "text": [
      "Model: \"sequential_7\"\n",
      "_________________________________________________________________\n",
      "Layer (type)                 Output Shape              Param #   \n",
      "=================================================================\n",
      "embedding_2 (Embedding)      (None, 588, 300)          2535600   \n",
      "_________________________________________________________________\n",
      "bidirectional_7 (Bidirection (None, 128)               186880    \n",
      "_________________________________________________________________\n",
      "dropout_7 (Dropout)          (None, 128)               0         \n",
      "_________________________________________________________________\n",
      "dense_7 (Dense)              (None, 1)                 129       \n",
      "=================================================================\n",
      "Total params: 2,722,609\n",
      "Trainable params: 187,009\n",
      "Non-trainable params: 2,535,600\n",
      "_________________________________________________________________\n",
      "None\n"
     ]
    }
   ],
   "source": [
    "# Define model\n",
    "model_6 = Sequential()\n",
    "model_6.add(embedding_layer_large)\n",
    "model_6.add(Bidirectional(LSTM(64)))\n",
    "model_6.add(Dropout(0.5))\n",
    "model_6.add(Dense(1, activation='relu'))\n",
    "print(model_6.summary())"
   ]
  },
  {
   "cell_type": "code",
   "execution_count": 0,
   "metadata": {
    "colab": {},
    "colab_type": "code",
    "id": "SqazXj4bLigJ"
   },
   "outputs": [],
   "source": [
    "# Compile model\n",
    "model_6.compile(loss='binary_crossentropy', optimizer='adam', metrics=['accuracy'])"
   ]
  },
  {
   "cell_type": "code",
   "execution_count": 0,
   "metadata": {
    "colab": {
     "base_uri": "https://localhost:8080/",
     "height": 442
    },
    "colab_type": "code",
    "id": "7ZrKBZt-Lic9",
    "outputId": "855df53b-4472-46c0-ded5-d13b1b7d697e"
   },
   "outputs": [
    {
     "name": "stdout",
     "output_type": "stream",
     "text": [
      "Epoch 1/10\n",
      " - 27s - loss: 1.9822 - acc: 0.4587\n",
      "Epoch 2/10\n",
      " - 24s - loss: 0.8187 - acc: 0.5450\n",
      "Epoch 3/10\n",
      " - 23s - loss: 0.7823 - acc: 0.5587\n",
      "Epoch 4/10\n",
      " - 24s - loss: 0.6958 - acc: 0.6038\n",
      "Epoch 5/10\n",
      " - 24s - loss: 0.6557 - acc: 0.6187\n",
      "Epoch 6/10\n",
      " - 24s - loss: 0.6869 - acc: 0.6187\n",
      "Epoch 7/10\n",
      " - 24s - loss: 0.6220 - acc: 0.6575\n",
      "Epoch 8/10\n",
      " - 23s - loss: 0.6054 - acc: 0.6613\n",
      "Epoch 9/10\n",
      " - 24s - loss: 0.6007 - acc: 0.6950\n",
      "Epoch 10/10\n",
      " - 24s - loss: 0.5687 - acc: 0.7175\n",
      "--------------------------\n",
      "Training time in seconds:  243.03\n",
      "--------------------------\n",
      "Saved trained model at results/keras_rnn_model_6.h5 \n",
      "--------------------------\n"
     ]
    }
   ],
   "source": [
    "# Fit network\n",
    "start_time = time.time()\n",
    "history = model_6.fit(X_train, y_train, epochs=10, batch_size=64, verbose=2)\n",
    "elapsed_time = time.time() - start_time\n",
    "print('--------------------------')\n",
    "print('Training time in seconds: ', round(elapsed_time,2))\n",
    "print('--------------------------')\n",
    "\n",
    "# Save models locally after fitting\n",
    "save_dir = \"results/\"\n",
    "model_name = 'keras_rnn_model_6.h5'\n",
    "model_path = os.path.join(save_dir, model_name)\n",
    "model_6.save(model_path)\n",
    "print('Saved trained model at %s ' % model_path)\n",
    "print('--------------------------')"
   ]
  },
  {
   "cell_type": "code",
   "execution_count": 0,
   "metadata": {
    "colab": {
     "base_uri": "https://localhost:8080/",
     "height": 68
    },
    "colab_type": "code",
    "id": "POuLqEmkLiaP",
    "outputId": "b0872bae-b7f8-42ec-df7c-659c0d92e10b"
   },
   "outputs": [
    {
     "name": "stdout",
     "output_type": "stream",
     "text": [
      "Testing scores:\n",
      "Accuracy score: 0.6400\n",
      "Loss: 0.5835\n"
     ]
    }
   ],
   "source": [
    "# Final evaluation of the model\n",
    "scores = model_6.evaluate(X_test, y_test, verbose=0)\n",
    "print('Testing scores:')\n",
    "# print(\"Baseline Error: %.4f\" % (100-scores[1]*100))\n",
    "print(\"Accuracy score: %.4f\" % scores[1])\n",
    "print(\"Loss: %.4f\" % scores[0])"
   ]
  },
  {
   "cell_type": "code",
   "execution_count": 0,
   "metadata": {
    "colab": {
     "base_uri": "https://localhost:8080/",
     "height": 68
    },
    "colab_type": "code",
    "id": "xaw3p_xs3u2C",
    "outputId": "08648b67-e878-491e-8e2c-f733406c4af2"
   },
   "outputs": [
    {
     "name": "stdout",
     "output_type": "stream",
     "text": [
      "Testing scores:\n",
      "Accuracy score: 0.6400\n",
      "Loss: 0.5835\n"
     ]
    }
   ],
   "source": [
    "# # Load the weights\n",
    "# checkpoint_path = model_path = \"results/keras_rnn_model_6.h5\"\n",
    "# # model_name = 'keras_rnn_model_6.h5'\n",
    "# model_6.load_weights(checkpoint_path)\n",
    "\n",
    "# # Re-evaluate the model\n",
    "# scores_revised = model_6.evaluate(X_test, y_test, verbose=0)\n",
    "# print('Testing scores:')\n",
    "# print(\"Accuracy score: %.4f\" % scores_revised[1])\n",
    "# print(\"Loss: %.4f\" % scores_revised[0])"
   ]
  },
  {
   "cell_type": "markdown",
   "metadata": {
    "colab_type": "text",
    "id": "k8UYtpz05bsP"
   },
   "source": [
    "### Figure 7: Learning curves for model 6"
   ]
  },
  {
   "cell_type": "code",
   "execution_count": 0,
   "metadata": {
    "colab": {
     "base_uri": "https://localhost:8080/",
     "height": 324
    },
    "colab_type": "code",
    "id": "V_0ECMtuLiXi",
    "outputId": "ba7b73d2-45af-4215-d6b7-5c04dacbded1"
   },
   "outputs": [
    {
     "data": {
      "image/png": "[encoded data removed]",
      "text/plain": [
       "<Figure size 576x360 with 1 Axes>"
      ]
     },
     "metadata": {
      "tags": []
     },
     "output_type": "display_data"
    }
   ],
   "source": [
    "# Plot learning curves\n",
    "pd.DataFrame(history.history).plot(figsize=(8, 5))\n",
    "plt.grid(True)\n",
    "plt.gca().set_ylim(0, 1) # set the vertical range to [0-1]\n",
    "plt.show()"
   ]
  },
  {
   "cell_type": "code",
   "execution_count": 0,
   "metadata": {
    "colab": {},
    "colab_type": "code",
    "id": "snr7zpmr3csv"
   },
   "outputs": [],
   "source": [
    "# Make test predictions\n",
    "y_pred = model_6.predict(X_test)"
   ]
  },
  {
   "cell_type": "code",
   "execution_count": 0,
   "metadata": {
    "colab": {
     "base_uri": "https://localhost:8080/",
     "height": 224
    },
    "colab_type": "code",
    "id": "WFSvyXpV3csy",
    "outputId": "a6f06dfd-5bdd-44ad-a556-b53c6dac713a"
   },
   "outputs": [
    {
     "name": "stdout",
     "output_type": "stream",
     "text": [
      "Predicted prediction:\n",
      "[0.17665206]\n",
      "----------\n",
      "Review text:\n",
      "Although obviously lowbudget production performances songs movie worth seeing One Walkens musical roles date marvelous dancer singer demonstrates skills well watch Also starring Jason Connery great childrens story likable characters\n",
      "----------\n",
      "Predicted prediction:\n",
      "[0.5807091]\n",
      "----------\n",
      "Review text:\n",
      "premise rates low unfortunately also struggles raise laughs interest Only Hawns wellknown charm allows thin ice Goldies gotta contender actress whos done much career little quality material br\n"
     ]
    }
   ],
   "source": [
    "# Test on 2 reviews\n",
    "print('Predicted prediction:')\n",
    "print(y_pred[99])\n",
    "print('----------')\n",
    "print('Review text:')\n",
    "print(test_docs[99])\n",
    "print('----------')\n",
    "print('Predicted prediction:')\n",
    "print(y_pred[187])\n",
    "print('----------')\n",
    "print('Review text:')\n",
    "print(test_docs[187])"
   ]
  },
  {
   "cell_type": "markdown",
   "metadata": {
    "colab_type": "text",
    "id": "N6Jb_yqFWW94"
   },
   "source": [
    "# Model 7: learned embedding with convolutional and pooling layers"
   ]
  },
  {
   "cell_type": "code",
   "execution_count": 0,
   "metadata": {
    "colab": {
     "base_uri": "https://localhost:8080/",
     "height": 428
    },
    "colab_type": "code",
    "id": "c9T30jFCW4LD",
    "outputId": "39a6c81a-2da3-4b8e-c7a6-bd4af1ca23b3"
   },
   "outputs": [
    {
     "name": "stdout",
     "output_type": "stream",
     "text": [
      "WARNING:tensorflow:From /usr/local/lib/python3.6/dist-packages/keras/backend/tensorflow_backend.py:4267: The name tf.nn.max_pool is deprecated. Please use tf.nn.max_pool2d instead.\n",
      "\n",
      "Model: \"sequential_8\"\n",
      "_________________________________________________________________\n",
      "Layer (type)                 Output Shape              Param #   \n",
      "=================================================================\n",
      "embedding_6 (Embedding)      (None, 588, 100)          845200    \n",
      "_________________________________________________________________\n",
      "conv1d_1 (Conv1D)            (None, 581, 32)           25632     \n",
      "_________________________________________________________________\n",
      "max_pooling1d_1 (MaxPooling1 (None, 290, 32)           0         \n",
      "_________________________________________________________________\n",
      "flatten_1 (Flatten)          (None, 9280)              0         \n",
      "_________________________________________________________________\n",
      "dense_8 (Dense)              (None, 10)                92810     \n",
      "_________________________________________________________________\n",
      "dense_9 (Dense)              (None, 1)                 11        \n",
      "=================================================================\n",
      "Total params: 963,653\n",
      "Trainable params: 963,653\n",
      "Non-trainable params: 0\n",
      "_________________________________________________________________\n",
      "None\n"
     ]
    }
   ],
   "source": [
    "# Model 7\n",
    "model_7 = Sequential()\n",
    "model_7.add(Embedding(vocab_size, 100, input_length=max_length))\n",
    "model_7.add(Conv1D(filters=32, kernel_size=8, activation='relu'))\n",
    "model_7.add(MaxPooling1D(pool_size=2))\n",
    "model_7.add(Flatten())\n",
    "model_7.add(Dense(10, activation='relu'))\n",
    "model_7.add(Dense(1, activation='sigmoid'))\n",
    "print(model_7.summary())"
   ]
  },
  {
   "cell_type": "code",
   "execution_count": 0,
   "metadata": {
    "colab": {},
    "colab_type": "code",
    "id": "w_xXw97l4clV"
   },
   "outputs": [],
   "source": [
    "# Compile network\n",
    "model_7.compile(loss='binary_crossentropy', optimizer='adam', metrics=['accuracy'])"
   ]
  },
  {
   "cell_type": "code",
   "execution_count": 0,
   "metadata": {
    "colab": {
     "base_uri": "https://localhost:8080/",
     "height": 442
    },
    "colab_type": "code",
    "id": "7tVAvy394fms",
    "outputId": "f426826e-dba7-4488-bb67-85f1f35afa2b"
   },
   "outputs": [
    {
     "name": "stdout",
     "output_type": "stream",
     "text": [
      "Epoch 1/10\n",
      " - 8s - loss: 0.6944 - acc: 0.5050\n",
      "Epoch 2/10\n",
      " - 0s - loss: 0.6754 - acc: 0.6388\n",
      "Epoch 3/10\n",
      " - 0s - loss: 0.5892 - acc: 0.9450\n",
      "Epoch 4/10\n",
      " - 0s - loss: 0.3959 - acc: 0.9713\n",
      "Epoch 5/10\n",
      " - 0s - loss: 0.1582 - acc: 0.9850\n",
      "Epoch 6/10\n",
      " - 0s - loss: 0.0400 - acc: 0.9925\n",
      "Epoch 7/10\n",
      " - 0s - loss: 0.0115 - acc: 0.9988\n",
      "Epoch 8/10\n",
      " - 0s - loss: 0.0049 - acc: 1.0000\n",
      "Epoch 9/10\n",
      " - 0s - loss: 0.0027 - acc: 1.0000\n",
      "Epoch 10/10\n",
      " - 0s - loss: 0.0019 - acc: 1.0000\n",
      "--------------------------\n",
      "Training time in seconds:  8.74\n",
      "--------------------------\n",
      "Saved trained model at results/keras_rnn_model_7.h5 \n",
      "--------------------------\n"
     ]
    }
   ],
   "source": [
    "# Fit network\n",
    "start_time = time.time()\n",
    "history = model_7.fit(X_train, y_train, epochs=10, verbose=2, batch_size=64)\n",
    "elapsed_time = time.time() - start_time\n",
    "print('--------------------------')\n",
    "print('Training time in seconds: ', round(elapsed_time,2))\n",
    "print('--------------------------')\n",
    "\n",
    "# Save models locally after fitting\n",
    "save_dir = \"results/\"\n",
    "model_name = 'keras_rnn_model_7.h5'\n",
    "model_path = os.path.join(save_dir, model_name)\n",
    "model_7.save(model_path)\n",
    "print('Saved trained model at %s ' % model_path)\n",
    "print('--------------------------')"
   ]
  },
  {
   "cell_type": "code",
   "execution_count": 0,
   "metadata": {
    "colab": {
     "base_uri": "https://localhost:8080/",
     "height": 68
    },
    "colab_type": "code",
    "id": "-OD9Ib784giz",
    "outputId": "74a6ba3c-a64f-4312-8766-5f1dd1f932ad"
   },
   "outputs": [
    {
     "name": "stdout",
     "output_type": "stream",
     "text": [
      "Testing scores:\n",
      "Accuracy score: 0.8600\n",
      "Loss: 0.3091\n"
     ]
    }
   ],
   "source": [
    "# Final evaluation of the model\n",
    "scores = model_7.evaluate(X_test, y_test, verbose=0)\n",
    "print('Testing scores:')\n",
    "# print(\"Baseline Error: %.2f%%\" % (100-scores[1]*100))\n",
    "print(\"Accuracy score: %.4f\" % scores[1])\n",
    "print(\"Loss: %.4f\" % scores[0])"
   ]
  },
  {
   "cell_type": "code",
   "execution_count": 0,
   "metadata": {
    "colab": {
     "base_uri": "https://localhost:8080/",
     "height": 68
    },
    "colab_type": "code",
    "id": "Soa-okJi38Nk",
    "outputId": "1b37dc4d-2659-4a6c-b2c4-2da4facc7560"
   },
   "outputs": [
    {
     "name": "stdout",
     "output_type": "stream",
     "text": [
      "Testing scores:\n",
      "Accuracy score: 0.8600\n",
      "Loss: 0.3091\n"
     ]
    }
   ],
   "source": [
    "# # Load the weights\n",
    "# checkpoint_path = model_path = \"results/keras_rnn_model_7.h5\"\n",
    "# # model_name = 'keras_rnn_model_7.h5'\n",
    "# model_7.load_weights(checkpoint_path)\n",
    "\n",
    "# # Re-evaluate the model\n",
    "# scores_revised = model_7.evaluate(X_test, y_test, verbose=0)\n",
    "# print('Testing scores:')\n",
    "# print(\"Accuracy score: %.4f\" % scores_revised[1])\n",
    "# print(\"Loss: %.4f\" % scores_revised[0])"
   ]
  },
  {
   "cell_type": "markdown",
   "metadata": {
    "colab_type": "text",
    "id": "0QZd36Zl5gNp"
   },
   "source": [
    "### Figure 8: Learning curves for model 8"
   ]
  },
  {
   "cell_type": "code",
   "execution_count": 0,
   "metadata": {
    "colab": {
     "base_uri": "https://localhost:8080/",
     "height": 324
    },
    "colab_type": "code",
    "id": "s-5fkC4f1Nl2",
    "outputId": "587db4c4-ce78-4abf-d9d9-518e8d89989f"
   },
   "outputs": [
    {
     "data": {
      "image/png": "[encoded data removed]",
      "text/plain": [
       "<Figure size 576x360 with 1 Axes>"
      ]
     },
     "metadata": {
      "tags": []
     },
     "output_type": "display_data"
    }
   ],
   "source": [
    "# Plot learning curves\n",
    "pd.DataFrame(history.history).plot(figsize=(8, 5))\n",
    "plt.grid(True)\n",
    "plt.gca().set_ylim(0, 1) # set the vertical range to [0-1]\n",
    "plt.show()"
   ]
  },
  {
   "cell_type": "code",
   "execution_count": 0,
   "metadata": {
    "colab": {},
    "colab_type": "code",
    "id": "-VA3fhVc3ga1"
   },
   "outputs": [],
   "source": [
    "# Make test predictions\n",
    "y_pred = model_7.predict(X_test)"
   ]
  },
  {
   "cell_type": "code",
   "execution_count": 0,
   "metadata": {
    "colab": {
     "base_uri": "https://localhost:8080/",
     "height": 224
    },
    "colab_type": "code",
    "id": "86MbEGJ_3ga6",
    "outputId": "686eb18d-3b83-42d2-88ec-a2e198919f68"
   },
   "outputs": [
    {
     "name": "stdout",
     "output_type": "stream",
     "text": [
      "Predicted prediction:\n",
      "[0.21395832]\n",
      "----------\n",
      "Review text:\n",
      "Although obviously lowbudget production performances songs movie worth seeing One Walkens musical roles date marvelous dancer singer demonstrates skills well watch Also starring Jason Connery great childrens story likable characters\n",
      "----------\n",
      "Predicted prediction:\n",
      "[0.4227588]\n",
      "----------\n",
      "Review text:\n",
      "premise rates low unfortunately also struggles raise laughs interest Only Hawns wellknown charm allows thin ice Goldies gotta contender actress whos done much career little quality material br\n"
     ]
    }
   ],
   "source": [
    "# Test on 2 reviews\n",
    "print('Predicted prediction:')\n",
    "print(y_pred[99])\n",
    "print('----------')\n",
    "print('Review text:')\n",
    "print(test_docs[99])\n",
    "print('----------')\n",
    "print('Predicted prediction:')\n",
    "print(y_pred[187])\n",
    "print('----------')\n",
    "print('Review text:')\n",
    "print(test_docs[187])"
   ]
  },
  {
   "cell_type": "markdown",
   "metadata": {
    "colab_type": "text",
    "id": "dV5NhX8jHg9R"
   },
   "source": [
    "# Model 8: pre-trained embedding (100d) with convolutional and pooling layers"
   ]
  },
  {
   "cell_type": "code",
   "execution_count": 0,
   "metadata": {
    "colab": {
     "base_uri": "https://localhost:8080/",
     "height": 340
    },
    "colab_type": "code",
    "id": "vCfXqoFizr_-",
    "outputId": "76ebd861-f695-4b4e-c7c6-55b7fe3d818a"
   },
   "outputs": [
    {
     "name": "stdout",
     "output_type": "stream",
     "text": [
      "Model: \"sequential_9\"\n",
      "_________________________________________________________________\n",
      "Layer (type)                 Output Shape              Param #   \n",
      "=================================================================\n",
      "embedding_1 (Embedding)      (None, 588, 100)          845200    \n",
      "_________________________________________________________________\n",
      "conv1d_2 (Conv1D)            (None, 581, 128)          102528    \n",
      "_________________________________________________________________\n",
      "max_pooling1d_2 (MaxPooling1 (None, 290, 128)          0         \n",
      "_________________________________________________________________\n",
      "flatten_2 (Flatten)          (None, 37120)             0         \n",
      "_________________________________________________________________\n",
      "dense_10 (Dense)             (None, 1)                 37121     \n",
      "=================================================================\n",
      "Total params: 984,849\n",
      "Trainable params: 139,649\n",
      "Non-trainable params: 845,200\n",
      "_________________________________________________________________\n",
      "None\n"
     ]
    }
   ],
   "source": [
    "# Define model\n",
    "model_8 = Sequential()\n",
    "model_8.add(embedding_layer_small)\n",
    "model_8.add(Conv1D(filters=128, kernel_size=8, activation='relu'))\n",
    "model_8.add(MaxPooling1D(pool_size=2))\n",
    "model_8.add(Flatten())\n",
    "model_8.add(Dense(1, activation='sigmoid'))\n",
    "print(model_8.summary())"
   ]
  },
  {
   "cell_type": "code",
   "execution_count": 0,
   "metadata": {
    "colab": {},
    "colab_type": "code",
    "id": "pJsH2VsIYgts"
   },
   "outputs": [],
   "source": [
    "# Compile network\n",
    "model_8.compile(loss='binary_crossentropy', optimizer='adam', metrics=['accuracy'])"
   ]
  },
  {
   "cell_type": "code",
   "execution_count": 0,
   "metadata": {
    "colab": {
     "base_uri": "https://localhost:8080/",
     "height": 442
    },
    "colab_type": "code",
    "id": "CUmUHaNwYikC",
    "outputId": "00f64218-0b64-4436-83cb-693c332caa03"
   },
   "outputs": [
    {
     "name": "stdout",
     "output_type": "stream",
     "text": [
      "Epoch 1/10\n",
      " - 2s - loss: 0.7693 - acc: 0.5212\n",
      "Epoch 2/10\n",
      " - 0s - loss: 0.6214 - acc: 0.6975\n",
      "Epoch 3/10\n",
      " - 0s - loss: 0.5125 - acc: 0.8237\n",
      "Epoch 4/10\n",
      " - 0s - loss: 0.4041 - acc: 0.8438\n",
      "Epoch 5/10\n",
      " - 0s - loss: 0.3161 - acc: 0.8800\n",
      "Epoch 6/10\n",
      " - 0s - loss: 0.2226 - acc: 0.9587\n",
      "Epoch 7/10\n",
      " - 0s - loss: 0.1557 - acc: 0.9800\n",
      "Epoch 8/10\n",
      " - 0s - loss: 0.1044 - acc: 0.9950\n",
      "Epoch 9/10\n",
      " - 0s - loss: 0.0730 - acc: 0.9975\n",
      "Epoch 10/10\n",
      " - 0s - loss: 0.0551 - acc: 1.0000\n",
      "--------------------------\n",
      "Training time in seconds:  3.61\n",
      "--------------------------\n",
      "Saved trained model at results/keras_rnn_model_8.h5 \n",
      "--------------------------\n"
     ]
    }
   ],
   "source": [
    "# Fit network\n",
    "start_time = time.time()\n",
    "history = model_8.fit(X_train, y_train, epochs=10, verbose=2, batch_size=64)\n",
    "elapsed_time = time.time() - start_time\n",
    "print('--------------------------')\n",
    "print('Training time in seconds: ', round(elapsed_time,2))\n",
    "print('--------------------------')\n",
    "\n",
    "# Save models locally after fitting\n",
    "save_dir = \"results/\"\n",
    "model_name = 'keras_rnn_model_8.h5'\n",
    "model_path = os.path.join(save_dir, model_name)\n",
    "model_8.save(model_path)\n",
    "print('Saved trained model at %s ' % model_path)\n",
    "print('--------------------------')"
   ]
  },
  {
   "cell_type": "code",
   "execution_count": 0,
   "metadata": {
    "colab": {
     "base_uri": "https://localhost:8080/",
     "height": 68
    },
    "colab_type": "code",
    "id": "Htf5q4mwY3n5",
    "outputId": "03cc0376-892f-47c4-df7c-222927f24bad"
   },
   "outputs": [
    {
     "name": "stdout",
     "output_type": "stream",
     "text": [
      "Testing scores:\n",
      "Accuracy score: 0.7250\n",
      "Loss: 0.6683\n"
     ]
    }
   ],
   "source": [
    "# Final evaluation of the model\n",
    "scores = model_8.evaluate(X_test, y_test, verbose=0)\n",
    "print('Testing scores:')\n",
    "# print(\"Baseline Error: %.4f\" % (100-scores[1]*100))\n",
    "print(\"Accuracy score: %.4f\" % scores[1])\n",
    "print(\"Loss: %.4f\" % scores[0])"
   ]
  },
  {
   "cell_type": "code",
   "execution_count": 0,
   "metadata": {
    "colab": {
     "base_uri": "https://localhost:8080/",
     "height": 68
    },
    "colab_type": "code",
    "id": "SNjDtQCy4F-1",
    "outputId": "95c606a3-ee38-43dc-e661-f4079684e22b"
   },
   "outputs": [
    {
     "name": "stdout",
     "output_type": "stream",
     "text": [
      "Testing scores:\n",
      "Accuracy score: 0.7250\n",
      "Loss: 0.6683\n"
     ]
    }
   ],
   "source": [
    "# # Load the weights\n",
    "# checkpoint_path = model_path = \"results/keras_rnn_model_8.h5\"\n",
    "# # model_name = 'keras_rnn_model_8.h5'\n",
    "# model_8.load_weights(checkpoint_path)\n",
    "\n",
    "# # Re-evaluate the model\n",
    "# scores_revised = model_8.evaluate(X_test, y_test, verbose=0)\n",
    "# print('Testing scores:')\n",
    "# print(\"Accuracy score: %.4f\" % scores_revised[1])\n",
    "# print(\"Loss: %.4f\" % scores_revised[0])"
   ]
  },
  {
   "cell_type": "markdown",
   "metadata": {
    "colab_type": "text",
    "id": "mil6GIs95kF2"
   },
   "source": [
    "### Figure 9: Learning curves for model 8"
   ]
  },
  {
   "cell_type": "code",
   "execution_count": 0,
   "metadata": {
    "colab": {
     "base_uri": "https://localhost:8080/",
     "height": 324
    },
    "colab_type": "code",
    "id": "4z9kZ3l7zsCa",
    "outputId": "3773d127-4367-4a21-dc47-c7964318420b"
   },
   "outputs": [
    {
     "data": {
      "image/png": "[encoded data removed]",
      "text/plain": [
       "<Figure size 576x360 with 1 Axes>"
      ]
     },
     "metadata": {
      "tags": []
     },
     "output_type": "display_data"
    }
   ],
   "source": [
    "# Plot learning curves\n",
    "pd.DataFrame(history.history).plot(figsize=(8, 5))\n",
    "plt.grid(True)\n",
    "plt.gca().set_ylim(0, 1) # set the vertical range to [0-1]\n",
    "plt.show()"
   ]
  },
  {
   "cell_type": "code",
   "execution_count": 0,
   "metadata": {
    "colab": {},
    "colab_type": "code",
    "id": "u8kv_KgI3kLk"
   },
   "outputs": [],
   "source": [
    "# Make test predictions\n",
    "y_pred = model_8.predict(X_test)"
   ]
  },
  {
   "cell_type": "code",
   "execution_count": 0,
   "metadata": {
    "colab": {
     "base_uri": "https://localhost:8080/",
     "height": 224
    },
    "colab_type": "code",
    "id": "aNLL3iU03kLm",
    "outputId": "d3a92e0b-36ff-424c-db11-1c2efd1f6d0f"
   },
   "outputs": [
    {
     "name": "stdout",
     "output_type": "stream",
     "text": [
      "Predicted prediction:\n",
      "[0.02216437]\n",
      "----------\n",
      "Review text:\n",
      "Although obviously lowbudget production performances songs movie worth seeing One Walkens musical roles date marvelous dancer singer demonstrates skills well watch Also starring Jason Connery great childrens story likable characters\n",
      "----------\n",
      "Predicted prediction:\n",
      "[0.22648856]\n",
      "----------\n",
      "Review text:\n",
      "premise rates low unfortunately also struggles raise laughs interest Only Hawns wellknown charm allows thin ice Goldies gotta contender actress whos done much career little quality material br\n"
     ]
    }
   ],
   "source": [
    "# Test on 2 reviews\n",
    "print('Predicted prediction:')\n",
    "print(y_pred[99])\n",
    "print('----------')\n",
    "print('Review text:')\n",
    "print(test_docs[99])\n",
    "print('----------')\n",
    "print('Predicted prediction:')\n",
    "print(y_pred[187])\n",
    "print('----------')\n",
    "print('Review text:')\n",
    "print(test_docs[187])"
   ]
  },
  {
   "cell_type": "markdown",
   "metadata": {
    "colab_type": "text",
    "id": "NDZAcpF2HokI"
   },
   "source": [
    "# Model 9: pre-trained embedding (300d) with convolutional and pooling layers"
   ]
  },
  {
   "cell_type": "code",
   "execution_count": 0,
   "metadata": {
    "colab": {
     "base_uri": "https://localhost:8080/",
     "height": 340
    },
    "colab_type": "code",
    "id": "tUeWzpqYGxcJ",
    "outputId": "68666b1f-d2fe-4ebe-8bf5-9319a9c2454b"
   },
   "outputs": [
    {
     "name": "stdout",
     "output_type": "stream",
     "text": [
      "Model: \"sequential_10\"\n",
      "_________________________________________________________________\n",
      "Layer (type)                 Output Shape              Param #   \n",
      "=================================================================\n",
      "embedding_2 (Embedding)      (None, 588, 300)          2535600   \n",
      "_________________________________________________________________\n",
      "conv1d_3 (Conv1D)            (None, 581, 128)          307328    \n",
      "_________________________________________________________________\n",
      "max_pooling1d_3 (MaxPooling1 (None, 290, 128)          0         \n",
      "_________________________________________________________________\n",
      "flatten_3 (Flatten)          (None, 37120)             0         \n",
      "_________________________________________________________________\n",
      "dense_11 (Dense)             (None, 1)                 37121     \n",
      "=================================================================\n",
      "Total params: 2,880,049\n",
      "Trainable params: 344,449\n",
      "Non-trainable params: 2,535,600\n",
      "_________________________________________________________________\n",
      "None\n"
     ]
    }
   ],
   "source": [
    "# Define model\n",
    "model_9 = Sequential()\n",
    "model_9.add(embedding_layer_large)\n",
    "model_9.add(Conv1D(filters=128, kernel_size=8, activation='relu'))\n",
    "model_9.add(MaxPooling1D(pool_size=2))\n",
    "model_9.add(Flatten())\n",
    "model_9.add(Dense(1, activation='sigmoid'))\n",
    "print(model_9.summary())"
   ]
  },
  {
   "cell_type": "code",
   "execution_count": 0,
   "metadata": {
    "colab": {},
    "colab_type": "code",
    "id": "NIxmMFvFHx2S"
   },
   "outputs": [],
   "source": [
    "# Compile network\n",
    "model_9.compile(loss='binary_crossentropy', optimizer='adam', metrics=['accuracy'])"
   ]
  },
  {
   "cell_type": "code",
   "execution_count": 0,
   "metadata": {
    "colab": {
     "base_uri": "https://localhost:8080/",
     "height": 442
    },
    "colab_type": "code",
    "id": "3qoqcDqsHyPf",
    "outputId": "a5be81ac-8267-4c42-b5a7-67d0f5a003fa"
   },
   "outputs": [
    {
     "name": "stdout",
     "output_type": "stream",
     "text": [
      "Epoch 1/10\n",
      " - 3s - loss: 0.7121 - acc: 0.5275\n",
      "Epoch 2/10\n",
      " - 0s - loss: 0.4973 - acc: 0.8600\n",
      "Epoch 3/10\n",
      " - 0s - loss: 0.2860 - acc: 0.9237\n",
      "Epoch 4/10\n",
      " - 0s - loss: 0.1544 - acc: 0.9662\n",
      "Epoch 5/10\n",
      " - 0s - loss: 0.0823 - acc: 0.9975\n",
      "Epoch 6/10\n",
      " - 0s - loss: 0.0448 - acc: 1.0000\n",
      "Epoch 7/10\n",
      " - 0s - loss: 0.0239 - acc: 1.0000\n",
      "Epoch 8/10\n",
      " - 0s - loss: 0.0151 - acc: 1.0000\n",
      "Epoch 9/10\n",
      " - 0s - loss: 0.0107 - acc: 1.0000\n",
      "Epoch 10/10\n",
      " - 0s - loss: 0.0083 - acc: 1.0000\n",
      "--------------------------\n",
      "Training time in seconds:  4.96\n",
      "--------------------------\n",
      "Saved trained model at results/keras_rnn_model_9.h5 \n",
      "--------------------------\n"
     ]
    }
   ],
   "source": [
    "# Fit network\n",
    "start_time = time.time()\n",
    "history = model_9.fit(X_train, y_train, epochs=10, verbose=2, batch_size=64)\n",
    "elapsed_time = time.time() - start_time\n",
    "print('--------------------------')\n",
    "print('Training time in seconds: ', round(elapsed_time,2))\n",
    "print('--------------------------')\n",
    "\n",
    "# Save models locally after fitting\n",
    "save_dir = \"results/\"\n",
    "model_name = 'keras_rnn_model_9.h5'\n",
    "model_path = os.path.join(save_dir, model_name)\n",
    "model_9.save(model_path)\n",
    "print('Saved trained model at %s ' % model_path)\n",
    "print('--------------------------')"
   ]
  },
  {
   "cell_type": "code",
   "execution_count": 0,
   "metadata": {
    "colab": {
     "base_uri": "https://localhost:8080/",
     "height": 68
    },
    "colab_type": "code",
    "id": "CFFKFn1LHyMy",
    "outputId": "51b7fbdf-a3db-4eb0-8f47-360de4357f85"
   },
   "outputs": [
    {
     "name": "stdout",
     "output_type": "stream",
     "text": [
      "Testing scores:\n",
      "Accuracy score: 0.7550\n",
      "Loss: 0.6134\n"
     ]
    }
   ],
   "source": [
    "# Final evaluation of the model\n",
    "scores = model_9.evaluate(X_test, y_test, verbose=0)\n",
    "print('Testing scores:')\n",
    "# print(\"Baseline Error: %.4f\" % (100-scores[1]*100))\n",
    "print(\"Accuracy score: %.4f\" % scores[1])\n",
    "print(\"Loss: %.4f\" % scores[0])"
   ]
  },
  {
   "cell_type": "code",
   "execution_count": 0,
   "metadata": {
    "colab": {
     "base_uri": "https://localhost:8080/",
     "height": 68
    },
    "colab_type": "code",
    "id": "L3VbmbOI4NL2",
    "outputId": "af8cf959-3c3e-4e08-8175-98c48e34d646"
   },
   "outputs": [
    {
     "name": "stdout",
     "output_type": "stream",
     "text": [
      "Testing scores:\n",
      "Accuracy score: 0.7550\n",
      "Loss: 0.6134\n"
     ]
    }
   ],
   "source": [
    "# # Load the weights\n",
    "# checkpoint_path = model_path = \"results/keras_rnn_model_9.h5\"\n",
    "# # model_name = 'keras_rnn_model_9.h5'\n",
    "# model_9.load_weights(checkpoint_path)\n",
    "\n",
    "# # Re-evaluate the model\n",
    "# scores_revised = model_9.evaluate(X_test, y_test, verbose=0)\n",
    "# print('Testing scores:')\n",
    "# print(\"Accuracy score: %.4f\" % scores_revised[1])\n",
    "# print(\"Loss: %.4f\" % scores_revised[0])"
   ]
  },
  {
   "cell_type": "markdown",
   "metadata": {
    "colab_type": "text",
    "id": "5qiA66qM5nTF"
   },
   "source": [
    "### Figure 10: Learning curves for model 9"
   ]
  },
  {
   "cell_type": "code",
   "execution_count": 0,
   "metadata": {
    "colab": {
     "base_uri": "https://localhost:8080/",
     "height": 324
    },
    "colab_type": "code",
    "id": "nFGm1420HyI4",
    "outputId": "e3fca909-9ce3-413c-db36-f1ee8b8892ff"
   },
   "outputs": [
    {
     "data": {
      "image/png": "[encoded data removed]",
      "text/plain": [
       "<Figure size 576x360 with 1 Axes>"
      ]
     },
     "metadata": {
      "tags": []
     },
     "output_type": "display_data"
    }
   ],
   "source": [
    "# Plot learning curves\n",
    "pd.DataFrame(history.history).plot(figsize=(8, 5))\n",
    "plt.grid(True)\n",
    "plt.gca().set_ylim(0, 1) # set the vertical range to [0-1]\n",
    "plt.show()"
   ]
  },
  {
   "cell_type": "code",
   "execution_count": 0,
   "metadata": {
    "colab": {},
    "colab_type": "code",
    "id": "g5vGEqzP3mnL"
   },
   "outputs": [],
   "source": [
    "# Make test predictions\n",
    "y_pred = model_9.predict(X_test)"
   ]
  },
  {
   "cell_type": "code",
   "execution_count": 0,
   "metadata": {
    "colab": {
     "base_uri": "https://localhost:8080/",
     "height": 224
    },
    "colab_type": "code",
    "id": "X6e4gx863mnS",
    "outputId": "bf8c35c9-fa74-4a2c-d94a-16f87c025ea4"
   },
   "outputs": [
    {
     "name": "stdout",
     "output_type": "stream",
     "text": [
      "Predicted prediction:\n",
      "[0.0088219]\n",
      "----------\n",
      "Review text:\n",
      "Although obviously lowbudget production performances songs movie worth seeing One Walkens musical roles date marvelous dancer singer demonstrates skills well watch Also starring Jason Connery great childrens story likable characters\n",
      "----------\n",
      "Predicted prediction:\n",
      "[0.3938866]\n",
      "----------\n",
      "Review text:\n",
      "premise rates low unfortunately also struggles raise laughs interest Only Hawns wellknown charm allows thin ice Goldies gotta contender actress whos done much career little quality material br\n"
     ]
    }
   ],
   "source": [
    "# Test on 2 reviews\n",
    "print('Predicted prediction:')\n",
    "print(y_pred[99])\n",
    "print('----------')\n",
    "print('Review text:')\n",
    "print(test_docs[99])\n",
    "print('----------')\n",
    "print('Predicted prediction:')\n",
    "print(y_pred[187])\n",
    "print('----------')\n",
    "print('Review text:')\n",
    "print(test_docs[187])"
   ]
  },
  {
   "cell_type": "code",
   "execution_count": 0,
   "metadata": {
    "colab": {},
    "colab_type": "code",
    "id": "tRd8V6WD4SAf"
   },
   "outputs": [],
   "source": []
  }
 ],
 "metadata": {
  "accelerator": "GPU",
  "colab": {
   "collapsed_sections": [],
   "name": "Boetticher_A8_NLP with RNNs.ipynb",
   "provenance": []
  },
  "kernelspec": {
   "display_name": "Python 3",
   "language": "python",
   "name": "python3"
  },
  "language_info": {
   "codemirror_mode": {
    "name": "ipython",
    "version": 3
   },
   "file_extension": ".py",
   "mimetype": "text/x-python",
   "name": "python",
   "nbconvert_exporter": "python",
   "pygments_lexer": "ipython3",
   "version": "3.6.10"
  }
 },
 "nbformat": 4,
 "nbformat_minor": 1
}
